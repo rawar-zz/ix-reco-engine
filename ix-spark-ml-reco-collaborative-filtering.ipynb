{
 "cells": [
  {
   "cell_type": "markdown",
   "metadata": {},
   "source": [
    "# simple articles recommendation with collaborative filtering in Spark ML"
   ]
  },
  {
   "cell_type": "code",
   "execution_count": 1,
   "metadata": {},
   "outputs": [],
   "source": [
    "import pyspark\n",
    "from pyspark.sql import SparkSession, Row, SQLContext\n",
    "from pyspark.sql.types import *\n",
    "from pyspark.sql import functions as F \n",
    "from pyspark.ml.recommendation import ALS\n",
    "from pyspark.ml.evaluation import RegressionEvaluator\n",
    "from IPython.display import display, HTML\n",
    "import pandas as pd"
   ]
  },
  {
   "cell_type": "markdown",
   "metadata": {},
   "source": [
    "### get the data"
   ]
  },
  {
   "cell_type": "code",
   "execution_count": 2,
   "metadata": {},
   "outputs": [
    {
     "name": "stdout",
     "output_type": "stream",
     "text": [
      "  % Total    % Received % Xferd  Average Speed   Time    Time     Time  Current\n",
      "                                 Dload  Upload   Total   Spent    Left  Speed\n",
      "100 13.8M  100 13.8M    0     0  1241k      0  0:00:11  0:00:11 --:--:-- 1103k\n"
     ]
    }
   ],
   "source": [
    "! curl -o reco-collaborative-data.csv https://gist.githubusercontent.com/rawar/9870c6b95dfc0791148120f672e4703e/raw/5588316adabcc77163354dd7e3cb27ab419daf8f/reco-collaborative-data.csv"
   ]
  },
  {
   "cell_type": "markdown",
   "metadata": {},
   "source": [
    "### have a short look into the data "
   ]
  },
  {
   "cell_type": "code",
   "execution_count": 3,
   "metadata": {},
   "outputs": [
    {
     "name": "stdout",
     "output_type": "stream",
     "text": [
      "visitor_id,article_id,sum_pageviews\r\n",
      "647828,1026,3245\r\n",
      "34969,8371,160\r\n",
      "739991,5892,116\r\n",
      "739634,8446,107\r\n",
      "320270,5240,84\r\n",
      "294819,8381,82\r\n",
      "506821,863,77\r\n",
      "739634,11,75\r\n",
      "34969,8381,72\r\n"
     ]
    }
   ],
   "source": [
    "! head -n 10 reco-collaborative-data.csv"
   ]
  },
  {
   "cell_type": "markdown",
   "metadata": {},
   "source": [
    "### define the schema"
   ]
  },
  {
   "cell_type": "code",
   "execution_count": 4,
   "metadata": {},
   "outputs": [],
   "source": [
    "schema = StructType([\n",
    "    StructField('visitor_id', IntegerType()),      \n",
    "    StructField('article_id', IntegerType()),\n",
    "    StructField('sum_pageviews', IntegerType())\n",
    "])"
   ]
  },
  {
   "cell_type": "markdown",
   "metadata": {},
   "source": [
    "### read the data into Spark dataframe"
   ]
  },
  {
   "cell_type": "code",
   "execution_count": 5,
   "metadata": {},
   "outputs": [],
   "source": [
    "sql_context = SQLContext(sc)\n",
    "raw_data_df = sql_context.read.csv(path=\"reco-collaborative-data.csv\", header=True, schema=schema)"
   ]
  },
  {
   "cell_type": "markdown",
   "metadata": {},
   "source": [
    "### count the number of data"
   ]
  },
  {
   "cell_type": "code",
   "execution_count": 6,
   "metadata": {},
   "outputs": [
    {
     "data": {
      "text/plain": [
       "1049188"
      ]
     },
     "execution_count": 6,
     "metadata": {},
     "output_type": "execute_result"
    }
   ],
   "source": [
    "raw_data_df.count() "
   ]
  },
  {
   "cell_type": "markdown",
   "metadata": {},
   "source": [
    "### define some helper functions"
   ]
  },
  {
   "cell_type": "code",
   "execution_count": 7,
   "metadata": {},
   "outputs": [],
   "source": [
    "reco_ = F.UserDefinedFunction(\n",
    "  lambda x, y: list(zip(x, y)),\n",
    "  ArrayType(StructType([\n",
    "      StructField(\"first\", IntegerType()),\n",
    "      StructField(\"second\", DoubleType())\n",
    "  ]))\n",
    ")"
   ]
  },
  {
   "cell_type": "code",
   "execution_count": 8,
   "metadata": {},
   "outputs": [],
   "source": [
    "def displayDF(df, numberOfRows):\n",
    "    tmp_df = df.limit(numberOfRows)\n",
    "    display(tmp_df.toPandas())"
   ]
  },
  {
   "cell_type": "code",
   "execution_count": 9,
   "metadata": {},
   "outputs": [
    {
     "data": {
      "text/html": [
       "<div>\n",
       "<style scoped>\n",
       "    .dataframe tbody tr th:only-of-type {\n",
       "        vertical-align: middle;\n",
       "    }\n",
       "\n",
       "    .dataframe tbody tr th {\n",
       "        vertical-align: top;\n",
       "    }\n",
       "\n",
       "    .dataframe thead th {\n",
       "        text-align: right;\n",
       "    }\n",
       "</style>\n",
       "<table border=\"1\" class=\"dataframe\">\n",
       "  <thead>\n",
       "    <tr style=\"text-align: right;\">\n",
       "      <th></th>\n",
       "      <th>visitor_id</th>\n",
       "      <th>article_id</th>\n",
       "      <th>sum_pageviews</th>\n",
       "    </tr>\n",
       "  </thead>\n",
       "  <tbody>\n",
       "    <tr>\n",
       "      <th>0</th>\n",
       "      <td>647828</td>\n",
       "      <td>1026</td>\n",
       "      <td>3245</td>\n",
       "    </tr>\n",
       "    <tr>\n",
       "      <th>1</th>\n",
       "      <td>34969</td>\n",
       "      <td>8371</td>\n",
       "      <td>160</td>\n",
       "    </tr>\n",
       "    <tr>\n",
       "      <th>2</th>\n",
       "      <td>739991</td>\n",
       "      <td>5892</td>\n",
       "      <td>116</td>\n",
       "    </tr>\n",
       "    <tr>\n",
       "      <th>3</th>\n",
       "      <td>739634</td>\n",
       "      <td>8446</td>\n",
       "      <td>107</td>\n",
       "    </tr>\n",
       "    <tr>\n",
       "      <th>4</th>\n",
       "      <td>320270</td>\n",
       "      <td>5240</td>\n",
       "      <td>84</td>\n",
       "    </tr>\n",
       "  </tbody>\n",
       "</table>\n",
       "</div>"
      ],
      "text/plain": [
       "   visitor_id  article_id  sum_pageviews\n",
       "0      647828        1026           3245\n",
       "1       34969        8371            160\n",
       "2      739991        5892            116\n",
       "3      739634        8446            107\n",
       "4      320270        5240             84"
      ]
     },
     "metadata": {},
     "output_type": "display_data"
    }
   ],
   "source": [
    "displayDF(raw_data_df, 5)"
   ]
  },
  {
   "cell_type": "markdown",
   "metadata": {},
   "source": [
    "### Recommendation with alternating least squares"
   ]
  },
  {
   "cell_type": "code",
   "execution_count": 10,
   "metadata": {},
   "outputs": [],
   "source": [
    "als = ALS(\n",
    "    maxIter=7, \n",
    "    regParam=0.2, \n",
    "    userCol=\"visitor_id\", \n",
    "    itemCol=\"article_id\", \n",
    "    ratingCol=\"sum_pageviews\",\n",
    "    coldStartStrategy=\"drop\", \n",
    "    implicitPrefs=True,\n",
    "    rank=10\n",
    ")"
   ]
  },
  {
   "cell_type": "code",
   "execution_count": 11,
   "metadata": {},
   "outputs": [
    {
     "name": "stdout",
     "output_type": "stream",
     "text": [
      "alpha: alpha for implicit preference (default: 1.0)\n",
      "checkpointInterval: set checkpoint interval (>= 1) or disable checkpoint (-1). E.g. 10 means that the cache will get checkpointed every 10 iterations. Note: this setting will be ignored if the checkpoint directory is not set in the SparkContext. (default: 10)\n",
      "coldStartStrategy: strategy for dealing with unknown or new users/items at prediction time. This may be useful in cross-validation or production scenarios, for handling user/item ids the model has not seen in the training data. Supported values: 'nan', 'drop'. (default: nan, current: drop)\n",
      "finalStorageLevel: StorageLevel for ALS model factors. (default: MEMORY_AND_DISK)\n",
      "implicitPrefs: whether to use implicit preference (default: False, current: True)\n",
      "intermediateStorageLevel: StorageLevel for intermediate datasets. Cannot be 'NONE'. (default: MEMORY_AND_DISK)\n",
      "itemCol: column name for item ids. Ids must be within the integer value range. (default: item, current: article_id)\n",
      "maxIter: max number of iterations (>= 0). (default: 10, current: 7)\n",
      "nonnegative: whether to use nonnegative constraint for least squares (default: False)\n",
      "numItemBlocks: number of item blocks (default: 10)\n",
      "numUserBlocks: number of user blocks (default: 10)\n",
      "predictionCol: prediction column name. (default: prediction)\n",
      "rank: rank of the factorization (default: 10, current: 10)\n",
      "ratingCol: column name for ratings (default: rating, current: sum_pageviews)\n",
      "regParam: regularization parameter (>= 0). (default: 0.1, current: 0.2)\n",
      "seed: random seed. (default: -1517157561977538513)\n",
      "userCol: column name for user ids. Ids must be within the integer value range. (default: user, current: visitor_id)\n"
     ]
    }
   ],
   "source": [
    "print(als.explainParams())"
   ]
  },
  {
   "cell_type": "markdown",
   "metadata": {},
   "source": [
    "#### Creates an RMSE evaluator using the label and predicted columns\n",
    "The RMSE (root-mean-square-error) estimate the quality of the created model. In general, a lower RMSE is better than a higher one."
   ]
  },
  {
   "cell_type": "code",
   "execution_count": 12,
   "metadata": {},
   "outputs": [],
   "source": [
    "reg_eval = RegressionEvaluator(\n",
    "    predictionCol=\"prediction\", \n",
    "    labelCol=\"sum_pageviews\", \n",
    "    metricName=\"rmse\"\n",
    ")"
   ]
  },
  {
   "cell_type": "markdown",
   "metadata": {},
   "source": [
    "#### Split the origin data set into and validation"
   ]
  },
  {
   "cell_type": "code",
   "execution_count": 13,
   "metadata": {},
   "outputs": [],
   "source": [
    "(training_df, validation_df) = raw_data_df.randomSplit(\n",
    "    [0.8, 0.2], \n",
    "    seed=123456789\n",
    ")"
   ]
  },
  {
   "cell_type": "markdown",
   "metadata": {},
   "source": [
    "#### Fit the model to the given input dataframe for training"
   ]
  },
  {
   "cell_type": "code",
   "execution_count": 14,
   "metadata": {},
   "outputs": [],
   "source": [
    "als_model = als.fit(training_df)"
   ]
  },
  {
   "cell_type": "code",
   "execution_count": 15,
   "metadata": {},
   "outputs": [],
   "source": [
    "predict_df = als_model.transform(validation_df)"
   ]
  },
  {
   "cell_type": "markdown",
   "metadata": {},
   "source": [
    "#### Filter some unnecessary recommendation"
   ]
  },
  {
   "cell_type": "code",
   "execution_count": 16,
   "metadata": {},
   "outputs": [],
   "source": [
    "predicted_articles_df = predict_df.filter(predict_df.prediction != float('nan'))\n",
    "predicted_articles_df = predicted_articles_df\\\n",
    "    .withColumn(\"prediction\", F.abs(F.round(predicted_articles_df[\"prediction\"],0)))"
   ]
  },
  {
   "cell_type": "code",
   "execution_count": 17,
   "metadata": {},
   "outputs": [
    {
     "name": "stdout",
     "output_type": "stream",
     "text": [
      "For rank 10, regularization parameter 0.2 the RMSE is 2.285393331916213\n"
     ]
    }
   ],
   "source": [
    "error = reg_eval.evaluate(predicted_articles_df)\n",
    "print(\"For rank 10, regularization parameter 0.2 the RMSE is %s\" % error)"
   ]
  },
  {
   "cell_type": "markdown",
   "metadata": {},
   "source": [
    "### top 10 articles for each user "
   ]
  },
  {
   "cell_type": "code",
   "execution_count": 18,
   "metadata": {},
   "outputs": [
    {
     "data": {
      "text/html": [
       "<div>\n",
       "<style scoped>\n",
       "    .dataframe tbody tr th:only-of-type {\n",
       "        vertical-align: middle;\n",
       "    }\n",
       "\n",
       "    .dataframe tbody tr th {\n",
       "        vertical-align: top;\n",
       "    }\n",
       "\n",
       "    .dataframe thead th {\n",
       "        text-align: right;\n",
       "    }\n",
       "</style>\n",
       "<table border=\"1\" class=\"dataframe\">\n",
       "  <thead>\n",
       "    <tr style=\"text-align: right;\">\n",
       "      <th></th>\n",
       "      <th>visitor_id</th>\n",
       "      <th>recommendations</th>\n",
       "    </tr>\n",
       "  </thead>\n",
       "  <tbody>\n",
       "    <tr>\n",
       "      <th>0</th>\n",
       "      <td>148</td>\n",
       "      <td>[(6244, 0.4224605858325958), (8191, 0.33263662...</td>\n",
       "    </tr>\n",
       "    <tr>\n",
       "      <th>1</th>\n",
       "      <td>463</td>\n",
       "      <td>[(5584, 0.2013273537158966), (6244, 0.13268625...</td>\n",
       "    </tr>\n",
       "    <tr>\n",
       "      <th>2</th>\n",
       "      <td>471</td>\n",
       "      <td>[(8191, 0.637404203414917), (6244, 0.363770246...</td>\n",
       "    </tr>\n",
       "    <tr>\n",
       "      <th>3</th>\n",
       "      <td>496</td>\n",
       "      <td>[(8651, 0.00015352391346823424), (8446, 0.0001...</td>\n",
       "    </tr>\n",
       "    <tr>\n",
       "      <th>4</th>\n",
       "      <td>833</td>\n",
       "      <td>[(7293, 0.8094753623008728), (5584, 0.21846905...</td>\n",
       "    </tr>\n",
       "    <tr>\n",
       "      <th>5</th>\n",
       "      <td>1088</td>\n",
       "      <td>[(8651, 0.0523558109998703), (8446, 0.04186395...</td>\n",
       "    </tr>\n",
       "    <tr>\n",
       "      <th>6</th>\n",
       "      <td>1238</td>\n",
       "      <td>[(8651, 0.04071379452943802), (8446, 0.0325606...</td>\n",
       "    </tr>\n",
       "    <tr>\n",
       "      <th>7</th>\n",
       "      <td>1342</td>\n",
       "      <td>[(8223, 0.0002753616136033088), (7061, 0.00014...</td>\n",
       "    </tr>\n",
       "    <tr>\n",
       "      <th>8</th>\n",
       "      <td>1580</td>\n",
       "      <td>[(8651, 0.002572025638073683), (8024, 0.002138...</td>\n",
       "    </tr>\n",
       "    <tr>\n",
       "      <th>9</th>\n",
       "      <td>1591</td>\n",
       "      <td>[(8651, 0.02762039378285408), (8446, 0.0212976...</td>\n",
       "    </tr>\n",
       "  </tbody>\n",
       "</table>\n",
       "</div>"
      ],
      "text/plain": [
       "   visitor_id                                    recommendations\n",
       "0         148  [(6244, 0.4224605858325958), (8191, 0.33263662...\n",
       "1         463  [(5584, 0.2013273537158966), (6244, 0.13268625...\n",
       "2         471  [(8191, 0.637404203414917), (6244, 0.363770246...\n",
       "3         496  [(8651, 0.00015352391346823424), (8446, 0.0001...\n",
       "4         833  [(7293, 0.8094753623008728), (5584, 0.21846905...\n",
       "5        1088  [(8651, 0.0523558109998703), (8446, 0.04186395...\n",
       "6        1238  [(8651, 0.04071379452943802), (8446, 0.0325606...\n",
       "7        1342  [(8223, 0.0002753616136033088), (7061, 0.00014...\n",
       "8        1580  [(8651, 0.002572025638073683), (8024, 0.002138...\n",
       "9        1591  [(8651, 0.02762039378285408), (8446, 0.0212976..."
      ]
     },
     "metadata": {},
     "output_type": "display_data"
    }
   ],
   "source": [
    "user_recommendations_df = als_model.recommendForAllUsers(10)\n",
    "displayDF(user_recommendations_df, 10)"
   ]
  },
  {
   "cell_type": "markdown",
   "metadata": {},
   "source": [
    "### top 10 user recommendations for each article"
   ]
  },
  {
   "cell_type": "code",
   "execution_count": 19,
   "metadata": {},
   "outputs": [
    {
     "data": {
      "text/html": [
       "<div>\n",
       "<style scoped>\n",
       "    .dataframe tbody tr th:only-of-type {\n",
       "        vertical-align: middle;\n",
       "    }\n",
       "\n",
       "    .dataframe tbody tr th {\n",
       "        vertical-align: top;\n",
       "    }\n",
       "\n",
       "    .dataframe thead th {\n",
       "        text-align: right;\n",
       "    }\n",
       "</style>\n",
       "<table border=\"1\" class=\"dataframe\">\n",
       "  <thead>\n",
       "    <tr style=\"text-align: right;\">\n",
       "      <th></th>\n",
       "      <th>article_id</th>\n",
       "      <th>recommendations</th>\n",
       "    </tr>\n",
       "  </thead>\n",
       "  <tbody>\n",
       "    <tr>\n",
       "      <th>0</th>\n",
       "      <td>1580</td>\n",
       "      <td>[(511366, 1.2085095622754271e-21), (608223, 9....</td>\n",
       "    </tr>\n",
       "    <tr>\n",
       "      <th>1</th>\n",
       "      <td>5300</td>\n",
       "      <td>[(34969, 0.001255619339644909), (294819, 0.001...</td>\n",
       "    </tr>\n",
       "    <tr>\n",
       "      <th>2</th>\n",
       "      <td>6620</td>\n",
       "      <td>[(34969, 1.0714256148958157e-07), (294819, 7.9...</td>\n",
       "    </tr>\n",
       "    <tr>\n",
       "      <th>3</th>\n",
       "      <td>7240</td>\n",
       "      <td>[(34969, 6.078237129258923e-05), (294819, 4.52...</td>\n",
       "    </tr>\n",
       "    <tr>\n",
       "      <th>4</th>\n",
       "      <td>7340</td>\n",
       "      <td>[(647828, 8.14487793832086e-06), (202570, 3.74...</td>\n",
       "    </tr>\n",
       "    <tr>\n",
       "      <th>5</th>\n",
       "      <td>7880</td>\n",
       "      <td>[(34969, 0.004088749643415213), (294819, 0.003...</td>\n",
       "    </tr>\n",
       "    <tr>\n",
       "      <th>6</th>\n",
       "      <td>471</td>\n",
       "      <td>[(511366, 1.1506140554127739e-16), (739991, 9....</td>\n",
       "    </tr>\n",
       "    <tr>\n",
       "      <th>7</th>\n",
       "      <td>1591</td>\n",
       "      <td>[(34969, 0.00030105409678071737), (294819, 0.0...</td>\n",
       "    </tr>\n",
       "    <tr>\n",
       "      <th>8</th>\n",
       "      <td>4101</td>\n",
       "      <td>[(34969, 0.002676140982657671), (294819, 0.002...</td>\n",
       "    </tr>\n",
       "    <tr>\n",
       "      <th>9</th>\n",
       "      <td>1342</td>\n",
       "      <td>[(34969, 0.0001444842346245423), (294819, 0.00...</td>\n",
       "    </tr>\n",
       "  </tbody>\n",
       "</table>\n",
       "</div>"
      ],
      "text/plain": [
       "   article_id                                    recommendations\n",
       "0        1580  [(511366, 1.2085095622754271e-21), (608223, 9....\n",
       "1        5300  [(34969, 0.001255619339644909), (294819, 0.001...\n",
       "2        6620  [(34969, 1.0714256148958157e-07), (294819, 7.9...\n",
       "3        7240  [(34969, 6.078237129258923e-05), (294819, 4.52...\n",
       "4        7340  [(647828, 8.14487793832086e-06), (202570, 3.74...\n",
       "5        7880  [(34969, 0.004088749643415213), (294819, 0.003...\n",
       "6         471  [(511366, 1.1506140554127739e-16), (739991, 9....\n",
       "7        1591  [(34969, 0.00030105409678071737), (294819, 0.0...\n",
       "8        4101  [(34969, 0.002676140982657671), (294819, 0.002...\n",
       "9        1342  [(34969, 0.0001444842346245423), (294819, 0.00..."
      ]
     },
     "metadata": {},
     "output_type": "display_data"
    }
   ],
   "source": [
    "article_recommendation_df = als_model.recommendForAllItems(10)\n",
    "displayDF(article_recommendation_df, 10)"
   ]
  },
  {
   "cell_type": "markdown",
   "metadata": {},
   "source": [
    "### top 10 article recommendations for a specified set of users"
   ]
  },
  {
   "cell_type": "code",
   "execution_count": 20,
   "metadata": {},
   "outputs": [
    {
     "data": {
      "text/html": [
       "<div>\n",
       "<style scoped>\n",
       "    .dataframe tbody tr th:only-of-type {\n",
       "        vertical-align: middle;\n",
       "    }\n",
       "\n",
       "    .dataframe tbody tr th {\n",
       "        vertical-align: top;\n",
       "    }\n",
       "\n",
       "    .dataframe thead th {\n",
       "        text-align: right;\n",
       "    }\n",
       "</style>\n",
       "<table border=\"1\" class=\"dataframe\">\n",
       "  <thead>\n",
       "    <tr style=\"text-align: right;\">\n",
       "      <th></th>\n",
       "      <th>visitor_id</th>\n",
       "      <th>recommendations</th>\n",
       "    </tr>\n",
       "  </thead>\n",
       "  <tbody>\n",
       "    <tr>\n",
       "      <th>0</th>\n",
       "      <td>1580</td>\n",
       "      <td>[(8651, 0.002572025638073683), (8024, 0.002138...</td>\n",
       "    </tr>\n",
       "    <tr>\n",
       "      <th>1</th>\n",
       "      <td>4900</td>\n",
       "      <td>[(8475, 0.7443039417266846), (8594, 0.22050458...</td>\n",
       "    </tr>\n",
       "    <tr>\n",
       "      <th>2</th>\n",
       "      <td>6620</td>\n",
       "      <td>[(8024, 0.00032381396158598363), (5887, 0.0001...</td>\n",
       "    </tr>\n",
       "    <tr>\n",
       "      <th>3</th>\n",
       "      <td>7240</td>\n",
       "      <td>[(8428, 0.1912996917963028), (8172, 0.18571792...</td>\n",
       "    </tr>\n",
       "    <tr>\n",
       "      <th>4</th>\n",
       "      <td>7340</td>\n",
       "      <td>[(8024, 0.00019980572687927634), (8651, 0.0001...</td>\n",
       "    </tr>\n",
       "    <tr>\n",
       "      <th>5</th>\n",
       "      <td>7880</td>\n",
       "      <td>[(8588, 0.4726514518260956), (8252, 0.41014638...</td>\n",
       "    </tr>\n",
       "    <tr>\n",
       "      <th>6</th>\n",
       "      <td>9900</td>\n",
       "      <td>[(8651, 0.002572025638073683), (8024, 0.002138...</td>\n",
       "    </tr>\n",
       "    <tr>\n",
       "      <th>7</th>\n",
       "      <td>12940</td>\n",
       "      <td>[(5887, 0.030276881530880928), (8390, 0.026214...</td>\n",
       "    </tr>\n",
       "    <tr>\n",
       "      <th>8</th>\n",
       "      <td>14450</td>\n",
       "      <td>[(8488, 0.8548504710197449), (5887, 0.17466221...</td>\n",
       "    </tr>\n",
       "    <tr>\n",
       "      <th>9</th>\n",
       "      <td>15790</td>\n",
       "      <td>[(8651, 0.02005619741976261), (8446, 0.0158329...</td>\n",
       "    </tr>\n",
       "  </tbody>\n",
       "</table>\n",
       "</div>"
      ],
      "text/plain": [
       "   visitor_id                                    recommendations\n",
       "0        1580  [(8651, 0.002572025638073683), (8024, 0.002138...\n",
       "1        4900  [(8475, 0.7443039417266846), (8594, 0.22050458...\n",
       "2        6620  [(8024, 0.00032381396158598363), (5887, 0.0001...\n",
       "3        7240  [(8428, 0.1912996917963028), (8172, 0.18571792...\n",
       "4        7340  [(8024, 0.00019980572687927634), (8651, 0.0001...\n",
       "5        7880  [(8588, 0.4726514518260956), (8252, 0.41014638...\n",
       "6        9900  [(8651, 0.002572025638073683), (8024, 0.002138...\n",
       "7       12940  [(5887, 0.030276881530880928), (8390, 0.026214...\n",
       "8       14450  [(8488, 0.8548504710197449), (5887, 0.17466221...\n",
       "9       15790  [(8651, 0.02005619741976261), (8446, 0.0158329..."
      ]
     },
     "metadata": {},
     "output_type": "display_data"
    }
   ],
   "source": [
    "users = user_recommendations_df.select(als.getUserCol()).distinct().limit(10)\n",
    "user_subset_recommendations_df = als_model.recommendForUserSubset(users, 10)\n",
    "displayDF(user_subset_recommendations_df, 10)"
   ]
  },
  {
   "cell_type": "markdown",
   "metadata": {},
   "source": [
    "### build up a more friedly table for visitor ids, articles ids and recommendations"
   ]
  },
  {
   "cell_type": "code",
   "execution_count": 21,
   "metadata": {},
   "outputs": [],
   "source": [
    "recommendation_exploded = user_recommendations_df.select(\n",
    "    user_recommendations_df[\"visitor_id\"],\n",
    "    F.explode(user_recommendations_df[\"recommendations\"]).alias(\"reco\")\n",
    ")"
   ]
  },
  {
   "cell_type": "code",
   "execution_count": 22,
   "metadata": {},
   "outputs": [
    {
     "data": {
      "text/html": [
       "<div>\n",
       "<style scoped>\n",
       "    .dataframe tbody tr th:only-of-type {\n",
       "        vertical-align: middle;\n",
       "    }\n",
       "\n",
       "    .dataframe tbody tr th {\n",
       "        vertical-align: top;\n",
       "    }\n",
       "\n",
       "    .dataframe thead th {\n",
       "        text-align: right;\n",
       "    }\n",
       "</style>\n",
       "<table border=\"1\" class=\"dataframe\">\n",
       "  <thead>\n",
       "    <tr style=\"text-align: right;\">\n",
       "      <th></th>\n",
       "      <th>visitor_id</th>\n",
       "      <th>reco_article_id</th>\n",
       "      <th>reco_article_rating</th>\n",
       "    </tr>\n",
       "  </thead>\n",
       "  <tbody>\n",
       "    <tr>\n",
       "      <th>0</th>\n",
       "      <td>148</td>\n",
       "      <td>6244</td>\n",
       "      <td>0.422461</td>\n",
       "    </tr>\n",
       "    <tr>\n",
       "      <th>1</th>\n",
       "      <td>148</td>\n",
       "      <td>8191</td>\n",
       "      <td>0.332637</td>\n",
       "    </tr>\n",
       "    <tr>\n",
       "      <th>2</th>\n",
       "      <td>148</td>\n",
       "      <td>6708</td>\n",
       "      <td>0.319411</td>\n",
       "    </tr>\n",
       "    <tr>\n",
       "      <th>3</th>\n",
       "      <td>148</td>\n",
       "      <td>8488</td>\n",
       "      <td>0.156295</td>\n",
       "    </tr>\n",
       "    <tr>\n",
       "      <th>4</th>\n",
       "      <td>148</td>\n",
       "      <td>7781</td>\n",
       "      <td>0.130057</td>\n",
       "    </tr>\n",
       "    <tr>\n",
       "      <th>5</th>\n",
       "      <td>148</td>\n",
       "      <td>5584</td>\n",
       "      <td>0.129258</td>\n",
       "    </tr>\n",
       "    <tr>\n",
       "      <th>6</th>\n",
       "      <td>148</td>\n",
       "      <td>5887</td>\n",
       "      <td>0.108293</td>\n",
       "    </tr>\n",
       "    <tr>\n",
       "      <th>7</th>\n",
       "      <td>148</td>\n",
       "      <td>8452</td>\n",
       "      <td>0.103417</td>\n",
       "    </tr>\n",
       "    <tr>\n",
       "      <th>8</th>\n",
       "      <td>148</td>\n",
       "      <td>7541</td>\n",
       "      <td>0.082570</td>\n",
       "    </tr>\n",
       "    <tr>\n",
       "      <th>9</th>\n",
       "      <td>148</td>\n",
       "      <td>8172</td>\n",
       "      <td>0.082143</td>\n",
       "    </tr>\n",
       "    <tr>\n",
       "      <th>10</th>\n",
       "      <td>463</td>\n",
       "      <td>5584</td>\n",
       "      <td>0.201327</td>\n",
       "    </tr>\n",
       "    <tr>\n",
       "      <th>11</th>\n",
       "      <td>463</td>\n",
       "      <td>6244</td>\n",
       "      <td>0.132686</td>\n",
       "    </tr>\n",
       "    <tr>\n",
       "      <th>12</th>\n",
       "      <td>463</td>\n",
       "      <td>8191</td>\n",
       "      <td>0.132273</td>\n",
       "    </tr>\n",
       "    <tr>\n",
       "      <th>13</th>\n",
       "      <td>463</td>\n",
       "      <td>5887</td>\n",
       "      <td>0.127667</td>\n",
       "    </tr>\n",
       "    <tr>\n",
       "      <th>14</th>\n",
       "      <td>463</td>\n",
       "      <td>6708</td>\n",
       "      <td>0.107375</td>\n",
       "    </tr>\n",
       "    <tr>\n",
       "      <th>15</th>\n",
       "      <td>463</td>\n",
       "      <td>6092</td>\n",
       "      <td>0.090810</td>\n",
       "    </tr>\n",
       "    <tr>\n",
       "      <th>16</th>\n",
       "      <td>463</td>\n",
       "      <td>8452</td>\n",
       "      <td>0.084337</td>\n",
       "    </tr>\n",
       "    <tr>\n",
       "      <th>17</th>\n",
       "      <td>463</td>\n",
       "      <td>8390</td>\n",
       "      <td>0.080834</td>\n",
       "    </tr>\n",
       "    <tr>\n",
       "      <th>18</th>\n",
       "      <td>463</td>\n",
       "      <td>8335</td>\n",
       "      <td>0.070664</td>\n",
       "    </tr>\n",
       "    <tr>\n",
       "      <th>19</th>\n",
       "      <td>463</td>\n",
       "      <td>8407</td>\n",
       "      <td>0.067932</td>\n",
       "    </tr>\n",
       "  </tbody>\n",
       "</table>\n",
       "</div>"
      ],
      "text/plain": [
       "    visitor_id  reco_article_id  reco_article_rating\n",
       "0          148             6244             0.422461\n",
       "1          148             8191             0.332637\n",
       "2          148             6708             0.319411\n",
       "3          148             8488             0.156295\n",
       "4          148             7781             0.130057\n",
       "5          148             5584             0.129258\n",
       "6          148             5887             0.108293\n",
       "7          148             8452             0.103417\n",
       "8          148             7541             0.082570\n",
       "9          148             8172             0.082143\n",
       "10         463             5584             0.201327\n",
       "11         463             6244             0.132686\n",
       "12         463             8191             0.132273\n",
       "13         463             5887             0.127667\n",
       "14         463             6708             0.107375\n",
       "15         463             6092             0.090810\n",
       "16         463             8452             0.084337\n",
       "17         463             8390             0.080834\n",
       "18         463             8335             0.070664\n",
       "19         463             8407             0.067932"
      ]
     },
     "metadata": {},
     "output_type": "display_data"
    }
   ],
   "source": [
    "recommendation_splitted = recommendation_exploded.select(\n",
    "    \"visitor_id\", \n",
    "    recommendation_exploded[\"reco\"].article_id.alias(\"reco_article_id\"),\n",
    "    recommendation_exploded[\"reco\"].rating.alias(\"reco_article_rating\"))\n",
    "\n",
    "displayDF(recommendation_splitted,20)"
   ]
  }
 ],
 "metadata": {
  "kernelspec": {
   "display_name": "Python 3",
   "language": "python",
   "name": "python3"
  },
  "language_info": {
   "codemirror_mode": {
    "name": "ipython",
    "version": 3
   },
   "file_extension": ".py",
   "mimetype": "text/x-python",
   "name": "python",
   "nbconvert_exporter": "python",
   "pygments_lexer": "ipython3",
   "version": "3.4.2"
  }
 },
 "nbformat": 4,
 "nbformat_minor": 2
}
