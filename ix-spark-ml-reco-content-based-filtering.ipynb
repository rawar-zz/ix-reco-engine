{
 "cells": [
  {
   "cell_type": "markdown",
   "metadata": {},
   "source": [
    "# simple article recommendation with content-based filtering in Spark ML"
   ]
  },
  {
   "cell_type": "code",
   "execution_count": 1,
   "metadata": {},
   "outputs": [],
   "source": [
    "import pyspark\n",
    "from pyspark.sql import SparkSession, Row\n",
    "from pyspark.sql.types import *\n",
    "import pyspark.sql.functions as F\n",
    "from pyspark.ml.feature import Tokenizer, RegexTokenizer, StopWordsRemover, CountVectorizer \n",
    "from pyspark.ml.clustering import LDA, LocalLDAModel\n",
    "from pyspark.ml import Pipeline\n",
    "from IPython.display import display, HTML\n",
    "import pandas as pd\n",
    "import numpy as np\n",
    "import matplotlib.pyplot as plt\n",
    "from itertools import chain\n",
    "import plotly.plotly as py\n",
    "import plotly.graph_objs as go\n",
    "from plotly.offline import download_plotlyjs, init_notebook_mode, plot, iplot\n",
    "import squarify\n",
    "import colorlover as cl"
   ]
  },
  {
   "cell_type": "markdown",
   "metadata": {},
   "source": [
    "### get the data"
   ]
  },
  {
   "cell_type": "code",
   "execution_count": 2,
   "metadata": {},
   "outputs": [
    {
     "name": "stdout",
     "output_type": "stream",
     "text": [
      "  % Total    % Received % Xferd  Average Speed   Time    Time     Time  Current\n",
      "                                 Dload  Upload   Total   Spent    Left  Speed\n",
      "100 31.7M  100 31.7M    0     0   937k      0  0:00:34  0:00:34 --:--:--  981k  0:00:26  0:00:12  902k\n"
     ]
    }
   ],
   "source": [
    "! curl -o reco-content-data.csv https://gist.githubusercontent.com/rawar/ae4cce269e29c2826163fbca60b544f4/raw/20594a832b44de4b4a5160fb2732399ba09a70e9/reco-content-data.csv"
   ]
  },
  {
   "cell_type": "markdown",
   "metadata": {},
   "source": [
    "### have a short look into the data"
   ]
  },
  {
   "cell_type": "code",
   "execution_count": 3,
   "metadata": {},
   "outputs": [
    {
     "name": "stdout",
     "output_type": "stream",
     "text": [
      "id,title,content\r\n",
      "2777,Google verkauft Motorola,Android\r\n"
     ]
    }
   ],
   "source": [
    "! head -n 2 reco-content-data.csv "
   ]
  },
  {
   "cell_type": "markdown",
   "metadata": {},
   "source": [
    "### define the schema"
   ]
  },
  {
   "cell_type": "code",
   "execution_count": 4,
   "metadata": {},
   "outputs": [],
   "source": [
    "schema = StructType([\n",
    "    StructField(\"id\", StringType()),\n",
    "    StructField('title', StringType()),\n",
    "    StructField('content', StringType()),\n",
    "])"
   ]
  },
  {
   "cell_type": "markdown",
   "metadata": {},
   "source": [
    "### read the data into Spark dataframe"
   ]
  },
  {
   "cell_type": "code",
   "execution_count": 5,
   "metadata": {},
   "outputs": [],
   "source": [
    "sql_context = SQLContext(sc)\n",
    "raw_data_df = sql_context.read.csv(\"reco-content-data.csv\", header=True, schema=schema)"
   ]
  },
  {
   "cell_type": "markdown",
   "metadata": {},
   "source": [
    "### count the number of data"
   ]
  },
  {
   "cell_type": "code",
   "execution_count": 6,
   "metadata": {},
   "outputs": [
    {
     "data": {
      "text/plain": [
       "15751"
      ]
     },
     "execution_count": 6,
     "metadata": {},
     "output_type": "execute_result"
    }
   ],
   "source": [
    "raw_data_df.count() "
   ]
  },
  {
   "cell_type": "markdown",
   "metadata": {},
   "source": [
    "### define some helper functions"
   ]
  },
  {
   "cell_type": "code",
   "execution_count": 35,
   "metadata": {},
   "outputs": [],
   "source": [
    "ListOfIndexToWords = F.UserDefinedFunction(lambda wl: list([vocab_array[w] for w in wl]))\n",
    "FormatNumbers = F.UserDefinedFunction(lambda nl: [\"{:1.4f}\".format(x) for x in nl])"
   ]
  },
  {
   "cell_type": "code",
   "execution_count": 8,
   "metadata": {},
   "outputs": [],
   "source": [
    "def concat_array_udf(type):\n",
    "    def concat_(*args):\n",
    "        return list(chain(*args))\n",
    "    return F.UserDefinedFunction(concat_, ArrayType(type))\n",
    "\n",
    "concat_string_arrays = concat_array_udf(StringType())"
   ]
  },
  {
   "cell_type": "code",
   "execution_count": 9,
   "metadata": {},
   "outputs": [],
   "source": [
    "def displayDF(df, numberOfRows):\n",
    "    tmp_df = df.limit(numberOfRows)\n",
    "    display(tmp_df.toPandas())"
   ]
  },
  {
   "cell_type": "code",
   "execution_count": 10,
   "metadata": {},
   "outputs": [
    {
     "data": {
      "text/html": [
       "<div>\n",
       "<style scoped>\n",
       "    .dataframe tbody tr th:only-of-type {\n",
       "        vertical-align: middle;\n",
       "    }\n",
       "\n",
       "    .dataframe tbody tr th {\n",
       "        vertical-align: top;\n",
       "    }\n",
       "\n",
       "    .dataframe thead th {\n",
       "        text-align: right;\n",
       "    }\n",
       "</style>\n",
       "<table border=\"1\" class=\"dataframe\">\n",
       "  <thead>\n",
       "    <tr style=\"text-align: right;\">\n",
       "      <th></th>\n",
       "      <th>id</th>\n",
       "      <th>title</th>\n",
       "      <th>content</th>\n",
       "    </tr>\n",
       "  </thead>\n",
       "  <tbody>\n",
       "    <tr>\n",
       "      <th>0</th>\n",
       "      <td>2777</td>\n",
       "      <td>Google verkauft Motorola</td>\n",
       "      <td>Android</td>\n",
       "    </tr>\n",
       "    <tr>\n",
       "      <th>1</th>\n",
       "      <td>2770</td>\n",
       "      <td>Touchscreen im Winter: Handy-Handschuhe selber...</td>\n",
       "      <td>Ein Touchdisplay lässt sich normalerweise nich...</td>\n",
       "    </tr>\n",
       "    <tr>\n",
       "      <th>2</th>\n",
       "      <td>2855</td>\n",
       "      <td>\"Bei WhatsApp als Kontakt blockiert: So merkt ...</td>\n",
       "      <td>Auf den ersten Blick könnt Ihr nicht sehen ob ...</td>\n",
       "    </tr>\n",
       "    <tr>\n",
       "      <th>3</th>\n",
       "      <td>2942</td>\n",
       "      <td>Paper: Facebook stellt neue App im Flipboard-S...</td>\n",
       "      <td>IOS</td>\n",
       "    </tr>\n",
       "    <tr>\n",
       "      <th>4</th>\n",
       "      <td>3323</td>\n",
       "      <td>WhatsApp: mehr Privatsphäre für Nutzer</td>\n",
       "      <td>IOS</td>\n",
       "    </tr>\n",
       "  </tbody>\n",
       "</table>\n",
       "</div>"
      ],
      "text/plain": [
       "     id                                              title  \\\n",
       "0  2777                           Google verkauft Motorola   \n",
       "1  2770  Touchscreen im Winter: Handy-Handschuhe selber...   \n",
       "2  2855  \"Bei WhatsApp als Kontakt blockiert: So merkt ...   \n",
       "3  2942  Paper: Facebook stellt neue App im Flipboard-S...   \n",
       "4  3323             WhatsApp: mehr Privatsphäre für Nutzer   \n",
       "\n",
       "                                             content  \n",
       "0                                            Android  \n",
       "1  Ein Touchdisplay lässt sich normalerweise nich...  \n",
       "2  Auf den ersten Blick könnt Ihr nicht sehen ob ...  \n",
       "3                                                IOS  \n",
       "4                                                IOS  "
      ]
     },
     "metadata": {},
     "output_type": "display_data"
    }
   ],
   "source": [
    "displayDF(raw_data_df, 5)"
   ]
  },
  {
   "cell_type": "markdown",
   "metadata": {},
   "source": [
    "### remove some special characters"
   ]
  },
  {
   "cell_type": "code",
   "execution_count": 11,
   "metadata": {},
   "outputs": [],
   "source": [
    "raw_data_df = raw_data_df.withColumn('clean_title', F.regexp_replace('title', '[:\"-.]+', ''))"
   ]
  },
  {
   "cell_type": "markdown",
   "metadata": {},
   "source": [
    "#### Tokenize the document title"
   ]
  },
  {
   "cell_type": "code",
   "execution_count": 12,
   "metadata": {},
   "outputs": [],
   "source": [
    "title_tokenizer = RegexTokenizer(inputCol=\"clean_title\", outputCol=\"title_words\", gaps=True, pattern=\"\\\\s+\", minTokenLength=2)"
   ]
  },
  {
   "cell_type": "code",
   "execution_count": 13,
   "metadata": {},
   "outputs": [],
   "source": [
    "tokenized_title_df = title_tokenizer.transform(raw_data_df)"
   ]
  },
  {
   "cell_type": "markdown",
   "metadata": {},
   "source": [
    "#### Tokenize document content"
   ]
  },
  {
   "cell_type": "code",
   "execution_count": 14,
   "metadata": {},
   "outputs": [],
   "source": [
    "content_tokenizer = RegexTokenizer(inputCol=\"content\", outputCol=\"content_words\", gaps=True, pattern=\"\\\\s+\", minTokenLength=2)"
   ]
  },
  {
   "cell_type": "code",
   "execution_count": 15,
   "metadata": {},
   "outputs": [
    {
     "data": {
      "text/html": [
       "<div>\n",
       "<style scoped>\n",
       "    .dataframe tbody tr th:only-of-type {\n",
       "        vertical-align: middle;\n",
       "    }\n",
       "\n",
       "    .dataframe tbody tr th {\n",
       "        vertical-align: top;\n",
       "    }\n",
       "\n",
       "    .dataframe thead th {\n",
       "        text-align: right;\n",
       "    }\n",
       "</style>\n",
       "<table border=\"1\" class=\"dataframe\">\n",
       "  <thead>\n",
       "    <tr style=\"text-align: right;\">\n",
       "      <th></th>\n",
       "      <th>id</th>\n",
       "      <th>title</th>\n",
       "      <th>content</th>\n",
       "      <th>clean_title</th>\n",
       "      <th>title_words</th>\n",
       "      <th>content_words</th>\n",
       "    </tr>\n",
       "  </thead>\n",
       "  <tbody>\n",
       "    <tr>\n",
       "      <th>0</th>\n",
       "      <td>2777</td>\n",
       "      <td>Google verkauft Motorola</td>\n",
       "      <td>Android</td>\n",
       "      <td>Google verkauft Motorola</td>\n",
       "      <td>[google, verkauft, motorola]</td>\n",
       "      <td>[android]</td>\n",
       "    </tr>\n",
       "    <tr>\n",
       "      <th>1</th>\n",
       "      <td>2770</td>\n",
       "      <td>Touchscreen im Winter: Handy-Handschuhe selber...</td>\n",
       "      <td>Ein Touchdisplay lässt sich normalerweise nich...</td>\n",
       "      <td>Touchscreen im Winter HandyHandschuhe selber m...</td>\n",
       "      <td>[touchscreen, im, winter, handyhandschuhe, sel...</td>\n",
       "      <td>[ein, touchdisplay, lässt, sich, normalerweise...</td>\n",
       "    </tr>\n",
       "    <tr>\n",
       "      <th>2</th>\n",
       "      <td>2855</td>\n",
       "      <td>\"Bei WhatsApp als Kontakt blockiert: So merkt ...</td>\n",
       "      <td>Auf den ersten Blick könnt Ihr nicht sehen ob ...</td>\n",
       "      <td>Bei WhatsApp als Kontakt blockiert So merkt Ihrs</td>\n",
       "      <td>[bei, whatsapp, als, kontakt, blockiert, so, m...</td>\n",
       "      <td>[auf, den, ersten, blick, könnt, ihr, nicht, s...</td>\n",
       "    </tr>\n",
       "    <tr>\n",
       "      <th>3</th>\n",
       "      <td>2942</td>\n",
       "      <td>Paper: Facebook stellt neue App im Flipboard-S...</td>\n",
       "      <td>IOS</td>\n",
       "      <td>Paper Facebook stellt neue App im FlipboardSti...</td>\n",
       "      <td>[paper, facebook, stellt, neue, app, im, flipb...</td>\n",
       "      <td>[ios]</td>\n",
       "    </tr>\n",
       "    <tr>\n",
       "      <th>4</th>\n",
       "      <td>3323</td>\n",
       "      <td>WhatsApp: mehr Privatsphäre für Nutzer</td>\n",
       "      <td>IOS</td>\n",
       "      <td>WhatsApp mehr Privatsphäre für Nutzer</td>\n",
       "      <td>[whatsapp, mehr, privatsphäre, für, nutzer]</td>\n",
       "      <td>[ios]</td>\n",
       "    </tr>\n",
       "  </tbody>\n",
       "</table>\n",
       "</div>"
      ],
      "text/plain": [
       "     id                                              title  \\\n",
       "0  2777                           Google verkauft Motorola   \n",
       "1  2770  Touchscreen im Winter: Handy-Handschuhe selber...   \n",
       "2  2855  \"Bei WhatsApp als Kontakt blockiert: So merkt ...   \n",
       "3  2942  Paper: Facebook stellt neue App im Flipboard-S...   \n",
       "4  3323             WhatsApp: mehr Privatsphäre für Nutzer   \n",
       "\n",
       "                                             content  \\\n",
       "0                                            Android   \n",
       "1  Ein Touchdisplay lässt sich normalerweise nich...   \n",
       "2  Auf den ersten Blick könnt Ihr nicht sehen ob ...   \n",
       "3                                                IOS   \n",
       "4                                                IOS   \n",
       "\n",
       "                                         clean_title  \\\n",
       "0                           Google verkauft Motorola   \n",
       "1  Touchscreen im Winter HandyHandschuhe selber m...   \n",
       "2   Bei WhatsApp als Kontakt blockiert So merkt Ihrs   \n",
       "3  Paper Facebook stellt neue App im FlipboardSti...   \n",
       "4              WhatsApp mehr Privatsphäre für Nutzer   \n",
       "\n",
       "                                         title_words  \\\n",
       "0                       [google, verkauft, motorola]   \n",
       "1  [touchscreen, im, winter, handyhandschuhe, sel...   \n",
       "2  [bei, whatsapp, als, kontakt, blockiert, so, m...   \n",
       "3  [paper, facebook, stellt, neue, app, im, flipb...   \n",
       "4        [whatsapp, mehr, privatsphäre, für, nutzer]   \n",
       "\n",
       "                                       content_words  \n",
       "0                                          [android]  \n",
       "1  [ein, touchdisplay, lässt, sich, normalerweise...  \n",
       "2  [auf, den, ersten, blick, könnt, ihr, nicht, s...  \n",
       "3                                              [ios]  \n",
       "4                                              [ios]  "
      ]
     },
     "metadata": {},
     "output_type": "display_data"
    }
   ],
   "source": [
    "tokenized_content_df = content_tokenizer.transform(tokenized_title_df) \n",
    "displayDF(tokenized_content_df, 5)"
   ]
  },
  {
   "cell_type": "markdown",
   "metadata": {},
   "source": [
    "#### Filter stopwords\n",
    "I use two different lists of stopwords. The first one cames from https://github.com/stopwords-iso/stopwords-de/blob/master/stopwords-de.txt and teh 2nd one from Spark itsef"
   ]
  },
  {
   "cell_type": "code",
   "execution_count": 16,
   "metadata": {},
   "outputs": [],
   "source": [
    "extraStopWords = []\n",
    "with open('stopwords-de-utf8.txt', 'r', encoding='utf-8') as f:\n",
    "    extraStopWords = f.readlines()\n",
    "    \n",
    "extraStopWords = [x.strip() for x in extraStopWords]"
   ]
  },
  {
   "cell_type": "code",
   "execution_count": 17,
   "metadata": {},
   "outputs": [],
   "source": [
    "sparkStopWords = StopWordsRemover.loadDefaultStopWords(\"german\")\n",
    "stopWords = list(set().union(extraStopWords, sparkStopWords))"
   ]
  },
  {
   "cell_type": "code",
   "execution_count": 18,
   "metadata": {},
   "outputs": [],
   "source": [
    "filter_title_words = StopWordsRemover(\n",
    "    inputCol=\"title_words\", \n",
    "    outputCol=\"filtered_title_words\", \n",
    "    stopWords=stopWords\n",
    ")"
   ]
  },
  {
   "cell_type": "code",
   "execution_count": 19,
   "metadata": {},
   "outputs": [],
   "source": [
    "filter_content_words = StopWordsRemover(\n",
    "    inputCol=\"content_words\",\n",
    "    outputCol=\"filtered_content_words\",\n",
    "    stopWords=stopWords\n",
    ")"
   ]
  },
  {
   "cell_type": "code",
   "execution_count": 20,
   "metadata": {},
   "outputs": [
    {
     "data": {
      "text/html": [
       "<div>\n",
       "<style scoped>\n",
       "    .dataframe tbody tr th:only-of-type {\n",
       "        vertical-align: middle;\n",
       "    }\n",
       "\n",
       "    .dataframe tbody tr th {\n",
       "        vertical-align: top;\n",
       "    }\n",
       "\n",
       "    .dataframe thead th {\n",
       "        text-align: right;\n",
       "    }\n",
       "</style>\n",
       "<table border=\"1\" class=\"dataframe\">\n",
       "  <thead>\n",
       "    <tr style=\"text-align: right;\">\n",
       "      <th></th>\n",
       "      <th>filtered_title_words</th>\n",
       "      <th>filtered_content_words</th>\n",
       "    </tr>\n",
       "  </thead>\n",
       "  <tbody>\n",
       "    <tr>\n",
       "      <th>0</th>\n",
       "      <td>[google, verkauft, motorola]</td>\n",
       "      <td>[android]</td>\n",
       "    </tr>\n",
       "    <tr>\n",
       "      <th>1</th>\n",
       "      <td>[touchscreen, winter, handyhandschuhe, selber]</td>\n",
       "      <td>[touchdisplay, lässt, normalerweise, woll, led...</td>\n",
       "    </tr>\n",
       "    <tr>\n",
       "      <th>2</th>\n",
       "      <td>[whatsapp, kontakt, blockiert, merkt, ihrs]</td>\n",
       "      <td>[blick, sehen, whatsappkontakt, blockiert, wur...</td>\n",
       "    </tr>\n",
       "    <tr>\n",
       "      <th>3</th>\n",
       "      <td>[paper, facebook, stellt, app, flipboardstil]</td>\n",
       "      <td>[ios]</td>\n",
       "    </tr>\n",
       "    <tr>\n",
       "      <th>4</th>\n",
       "      <td>[whatsapp, privatsphäre, nutzer]</td>\n",
       "      <td>[ios]</td>\n",
       "    </tr>\n",
       "    <tr>\n",
       "      <th>5</th>\n",
       "      <td>[tipps, schutz, gefahren, sozialen, netzwerken]</td>\n",
       "      <td>[soziale, netzwerke, facebook, instagramhttpsc...</td>\n",
       "    </tr>\n",
       "    <tr>\n",
       "      <th>6</th>\n",
       "      <td>[bluetoothkopfhörer, sportler]</td>\n",
       "      <td>[bluetoothkopfhörer, sport, eingesetzt, gelten...</td>\n",
       "    </tr>\n",
       "    <tr>\n",
       "      <th>7</th>\n",
       "      <td>[mobistel, cynus, t5]</td>\n",
       "      <td>[mobistel, cynus, t5, mitte, jahres, 2013, han...</td>\n",
       "    </tr>\n",
       "    <tr>\n",
       "      <th>8</th>\n",
       "      <td>[speicherplatz, ipad, iphone, sparen]</td>\n",
       "      <td>[ios]</td>\n",
       "    </tr>\n",
       "    <tr>\n",
       "      <th>9</th>\n",
       "      <td>[sarwert, handy, strahlung, aus?]</td>\n",
       "      <td>[2001, europa, norm, messbedingungen, sarwert,...</td>\n",
       "    </tr>\n",
       "  </tbody>\n",
       "</table>\n",
       "</div>"
      ],
      "text/plain": [
       "                              filtered_title_words  \\\n",
       "0                     [google, verkauft, motorola]   \n",
       "1   [touchscreen, winter, handyhandschuhe, selber]   \n",
       "2      [whatsapp, kontakt, blockiert, merkt, ihrs]   \n",
       "3    [paper, facebook, stellt, app, flipboardstil]   \n",
       "4                 [whatsapp, privatsphäre, nutzer]   \n",
       "5  [tipps, schutz, gefahren, sozialen, netzwerken]   \n",
       "6                   [bluetoothkopfhörer, sportler]   \n",
       "7                            [mobistel, cynus, t5]   \n",
       "8            [speicherplatz, ipad, iphone, sparen]   \n",
       "9                [sarwert, handy, strahlung, aus?]   \n",
       "\n",
       "                              filtered_content_words  \n",
       "0                                          [android]  \n",
       "1  [touchdisplay, lässt, normalerweise, woll, led...  \n",
       "2  [blick, sehen, whatsappkontakt, blockiert, wur...  \n",
       "3                                              [ios]  \n",
       "4                                              [ios]  \n",
       "5  [soziale, netzwerke, facebook, instagramhttpsc...  \n",
       "6  [bluetoothkopfhörer, sport, eingesetzt, gelten...  \n",
       "7  [mobistel, cynus, t5, mitte, jahres, 2013, han...  \n",
       "8                                              [ios]  \n",
       "9  [2001, europa, norm, messbedingungen, sarwert,...  "
      ]
     },
     "metadata": {},
     "output_type": "display_data"
    }
   ],
   "source": [
    "filterted_words_df = filter_title_words.transform(tokenized_content_df)\n",
    "filterted_words_df = filter_content_words.transform(filterted_words_df)\n",
    "displayDF(filterted_words_df.select(\"filtered_title_words\", \"filtered_content_words\"), 10)"
   ]
  },
  {
   "cell_type": "code",
   "execution_count": 21,
   "metadata": {},
   "outputs": [],
   "source": [
    "filterted_words_df = filterted_words_df.withColumn(\n",
    "    'filtered_all_words',\n",
    "    concat_string_arrays(F.col(\"filtered_title_words\"), F.col(\"filtered_content_words\"))\n",
    ")"
   ]
  },
  {
   "cell_type": "code",
   "execution_count": 22,
   "metadata": {},
   "outputs": [
    {
     "data": {
      "text/html": [
       "<div>\n",
       "<style scoped>\n",
       "    .dataframe tbody tr th:only-of-type {\n",
       "        vertical-align: middle;\n",
       "    }\n",
       "\n",
       "    .dataframe tbody tr th {\n",
       "        vertical-align: top;\n",
       "    }\n",
       "\n",
       "    .dataframe thead th {\n",
       "        text-align: right;\n",
       "    }\n",
       "</style>\n",
       "<table border=\"1\" class=\"dataframe\">\n",
       "  <thead>\n",
       "    <tr style=\"text-align: right;\">\n",
       "      <th></th>\n",
       "      <th>filtered_all_words</th>\n",
       "    </tr>\n",
       "  </thead>\n",
       "  <tbody>\n",
       "    <tr>\n",
       "      <th>0</th>\n",
       "      <td>[google, verkauft, motorola, android]</td>\n",
       "    </tr>\n",
       "    <tr>\n",
       "      <th>1</th>\n",
       "      <td>[touchscreen, winter, handyhandschuhe, selber,...</td>\n",
       "    </tr>\n",
       "    <tr>\n",
       "      <th>2</th>\n",
       "      <td>[whatsapp, kontakt, blockiert, merkt, ihrs, bl...</td>\n",
       "    </tr>\n",
       "    <tr>\n",
       "      <th>3</th>\n",
       "      <td>[paper, facebook, stellt, app, flipboardstil, ...</td>\n",
       "    </tr>\n",
       "    <tr>\n",
       "      <th>4</th>\n",
       "      <td>[whatsapp, privatsphäre, nutzer, ios]</td>\n",
       "    </tr>\n",
       "  </tbody>\n",
       "</table>\n",
       "</div>"
      ],
      "text/plain": [
       "                                  filtered_all_words\n",
       "0              [google, verkauft, motorola, android]\n",
       "1  [touchscreen, winter, handyhandschuhe, selber,...\n",
       "2  [whatsapp, kontakt, blockiert, merkt, ihrs, bl...\n",
       "3  [paper, facebook, stellt, app, flipboardstil, ...\n",
       "4              [whatsapp, privatsphäre, nutzer, ios]"
      ]
     },
     "metadata": {},
     "output_type": "display_data"
    }
   ],
   "source": [
    "displayDF(filterted_words_df.select(\"filtered_all_words\"), 5)"
   ]
  },
  {
   "cell_type": "markdown",
   "metadata": {},
   "source": [
    "#### Convert the documents with the extracted words to document vectors\n",
    "The CountVectorizer https://spark.apache.org/docs/latest/ml-features.html#countvectorizer is a helper to convert a collection of text documents to vectors of token counts. During the fitting process, it can be calculate the TF/IDF."
   ]
  },
  {
   "cell_type": "code",
   "execution_count": 23,
   "metadata": {},
   "outputs": [],
   "source": [
    "cv = CountVectorizer(\n",
    "    inputCol=\"filtered_all_words\", \n",
    "    outputCol=\"features\", \n",
    "    vocabSize=100,    # number of selected words across the document corpus\n",
    "    minTF=2,          # minium number of times a word must appear in a document\n",
    "    minDF=6           # minimun number of documents a word must appear in document corpus\n",
    ")\n",
    "\n",
    "cv_model = cv.fit(filterted_words_df)"
   ]
  },
  {
   "cell_type": "code",
   "execution_count": 24,
   "metadata": {},
   "outputs": [
    {
     "data": {
      "text/html": [
       "<div>\n",
       "<style scoped>\n",
       "    .dataframe tbody tr th:only-of-type {\n",
       "        vertical-align: middle;\n",
       "    }\n",
       "\n",
       "    .dataframe tbody tr th {\n",
       "        vertical-align: top;\n",
       "    }\n",
       "\n",
       "    .dataframe thead th {\n",
       "        text-align: right;\n",
       "    }\n",
       "</style>\n",
       "<table border=\"1\" class=\"dataframe\">\n",
       "  <thead>\n",
       "    <tr style=\"text-align: right;\">\n",
       "      <th></th>\n",
       "      <th>id</th>\n",
       "      <th>filtered_all_words</th>\n",
       "      <th>features</th>\n",
       "    </tr>\n",
       "  </thead>\n",
       "  <tbody>\n",
       "    <tr>\n",
       "      <th>0</th>\n",
       "      <td>2777</td>\n",
       "      <td>[google, verkauft, motorola, android]</td>\n",
       "      <td>(0.0, 0.0, 0.0, 0.0, 0.0, 0.0, 0.0, 0.0, 0.0, ...</td>\n",
       "    </tr>\n",
       "    <tr>\n",
       "      <th>1</th>\n",
       "      <td>2770</td>\n",
       "      <td>[touchscreen, winter, handyhandschuhe, selber,...</td>\n",
       "      <td>(0.0, 0.0, 0.0, 0.0, 0.0, 0.0, 0.0, 0.0, 0.0, ...</td>\n",
       "    </tr>\n",
       "    <tr>\n",
       "      <th>2</th>\n",
       "      <td>2855</td>\n",
       "      <td>[whatsapp, kontakt, blockiert, merkt, ihrs, bl...</td>\n",
       "      <td>(0.0, 0.0, 0.0, 0.0, 0.0, 0.0, 0.0, 0.0, 0.0, ...</td>\n",
       "    </tr>\n",
       "    <tr>\n",
       "      <th>3</th>\n",
       "      <td>2942</td>\n",
       "      <td>[paper, facebook, stellt, app, flipboardstil, ...</td>\n",
       "      <td>(0.0, 0.0, 0.0, 0.0, 0.0, 0.0, 0.0, 0.0, 0.0, ...</td>\n",
       "    </tr>\n",
       "    <tr>\n",
       "      <th>4</th>\n",
       "      <td>3323</td>\n",
       "      <td>[whatsapp, privatsphäre, nutzer, ios]</td>\n",
       "      <td>(0.0, 0.0, 0.0, 0.0, 0.0, 0.0, 0.0, 0.0, 0.0, ...</td>\n",
       "    </tr>\n",
       "    <tr>\n",
       "      <th>5</th>\n",
       "      <td>1627</td>\n",
       "      <td>[tipps, schutz, gefahren, sozialen, netzwerken...</td>\n",
       "      <td>(0.0, 0.0, 0.0, 0.0, 0.0, 0.0, 0.0, 0.0, 0.0, ...</td>\n",
       "    </tr>\n",
       "  </tbody>\n",
       "</table>\n",
       "</div>"
      ],
      "text/plain": [
       "     id                                 filtered_all_words  \\\n",
       "0  2777              [google, verkauft, motorola, android]   \n",
       "1  2770  [touchscreen, winter, handyhandschuhe, selber,...   \n",
       "2  2855  [whatsapp, kontakt, blockiert, merkt, ihrs, bl...   \n",
       "3  2942  [paper, facebook, stellt, app, flipboardstil, ...   \n",
       "4  3323              [whatsapp, privatsphäre, nutzer, ios]   \n",
       "5  1627  [tipps, schutz, gefahren, sozialen, netzwerken...   \n",
       "\n",
       "                                            features  \n",
       "0  (0.0, 0.0, 0.0, 0.0, 0.0, 0.0, 0.0, 0.0, 0.0, ...  \n",
       "1  (0.0, 0.0, 0.0, 0.0, 0.0, 0.0, 0.0, 0.0, 0.0, ...  \n",
       "2  (0.0, 0.0, 0.0, 0.0, 0.0, 0.0, 0.0, 0.0, 0.0, ...  \n",
       "3  (0.0, 0.0, 0.0, 0.0, 0.0, 0.0, 0.0, 0.0, 0.0, ...  \n",
       "4  (0.0, 0.0, 0.0, 0.0, 0.0, 0.0, 0.0, 0.0, 0.0, ...  \n",
       "5  (0.0, 0.0, 0.0, 0.0, 0.0, 0.0, 0.0, 0.0, 0.0, ...  "
      ]
     },
     "metadata": {},
     "output_type": "display_data"
    }
   ],
   "source": [
    "displayDF(cv_model.transform(filterted_words_df).select(\"id\",\"filtered_all_words\",\"features\"),6)"
   ]
  },
  {
   "cell_type": "markdown",
   "metadata": {},
   "source": [
    "#### Create count feature vectors"
   ]
  },
  {
   "cell_type": "code",
   "execution_count": 25,
   "metadata": {},
   "outputs": [],
   "source": [
    "count_vectors = cv_model.transform(filterted_words_df).select(\"id\",\"features\")"
   ]
  },
  {
   "cell_type": "code",
   "execution_count": 26,
   "metadata": {},
   "outputs": [
    {
     "name": "stdout",
     "output_type": "stream",
     "text": [
      "Corpus contains 15751 documents and the model vocabulary is 100\n"
     ]
    }
   ],
   "source": [
    "corpus_size = count_vectors.count()\n",
    "print('Corpus contains %s documents and the model vocabulary is %s' % (corpus_size, len(cv_model.vocabulary))) "
   ]
  },
  {
   "cell_type": "markdown",
   "metadata": {},
   "source": [
    "#### Train the LDA model on 80% of the documents"
   ]
  },
  {
   "cell_type": "code",
   "execution_count": 27,
   "metadata": {},
   "outputs": [
    {
     "name": "stdout",
     "output_type": "stream",
     "text": [
      "Number of training documents 12640 and testing documents 3111 \n"
     ]
    }
   ],
   "source": [
    "training_df, testing_df = count_vectors.randomSplit([0.8, 0.2], 1)\n",
    "print('Number of training documents %s and testing documents %s ' % (training_df.count(), testing_df.count()))"
   ]
  },
  {
   "cell_type": "code",
   "execution_count": 28,
   "metadata": {},
   "outputs": [],
   "source": [
    "lda = LDA(\n",
    "    maxIter=15, \n",
    "    k=5, \n",
    "    seed=42, \n",
    "    optimizer=\"online\", \n",
    "    optimizeDocConcentration=True, \n",
    "    learningDecay=0.51, \n",
    "    learningOffset=64., \n",
    "    subsamplingRate=0.05\n",
    ")"
   ]
  },
  {
   "cell_type": "code",
   "execution_count": 29,
   "metadata": {},
   "outputs": [],
   "source": [
    "lda_model = lda.fit(training_df)"
   ]
  },
  {
   "cell_type": "code",
   "execution_count": 30,
   "metadata": {},
   "outputs": [
    {
     "name": "stdout",
     "output_type": "stream",
     "text": [
      "Perplexity on testing data is 3.633680813055668 and training data is 3.6943704550350875\n"
     ]
    }
   ],
   "source": [
    "lpt, lp = lda_model.logPerplexity(testing_df), lda_model.logPerplexity(training_df)\n",
    "print(\"Perplexity on testing data is %s and training data is %s\" % (str(lp),str(lpt)))"
   ]
  },
  {
   "cell_type": "markdown",
   "metadata": {},
   "source": [
    "#### Print topics with weights"
   ]
  },
  {
   "cell_type": "code",
   "execution_count": 32,
   "metadata": {},
   "outputs": [],
   "source": [
    "lda_model = lda.fit(count_vectors)\n",
    "topics = lda_model.describeTopics(maxTermsPerTopic=5)\n",
    "vocab_array = cv_model.vocabulary"
   ]
  },
  {
   "cell_type": "code",
   "execution_count": 33,
   "metadata": {},
   "outputs": [
    {
     "name": "stdout",
     "output_type": "stream",
     "text": [
      "Number of topics 5\n"
     ]
    }
   ],
   "source": [
    "num_topics = topics.count()\n",
    "print(\"Number of topics %s\" % (num_topics))"
   ]
  },
  {
   "cell_type": "code",
   "execution_count": 36,
   "metadata": {},
   "outputs": [
    {
     "data": {
      "text/html": [
       "<div>\n",
       "<style scoped>\n",
       "    .dataframe tbody tr th:only-of-type {\n",
       "        vertical-align: middle;\n",
       "    }\n",
       "\n",
       "    .dataframe tbody tr th {\n",
       "        vertical-align: top;\n",
       "    }\n",
       "\n",
       "    .dataframe thead th {\n",
       "        text-align: right;\n",
       "    }\n",
       "</style>\n",
       "<table border=\"1\" class=\"dataframe\">\n",
       "  <thead>\n",
       "    <tr style=\"text-align: right;\">\n",
       "      <th></th>\n",
       "      <th>topic terms</th>\n",
       "    </tr>\n",
       "  </thead>\n",
       "  <tbody>\n",
       "    <tr>\n",
       "      <th>0</th>\n",
       "      <td>[apple, watch, ios, millionen, iphone]</td>\n",
       "    </tr>\n",
       "    <tr>\n",
       "      <th>1</th>\n",
       "      <td>[apple, gb, tv, tvos, 2018]</td>\n",
       "    </tr>\n",
       "    <tr>\n",
       "      <th>2</th>\n",
       "      <td>[iphone, galaxy, samsung, apple, homepod]</td>\n",
       "    </tr>\n",
       "    <tr>\n",
       "      <th>3</th>\n",
       "      <td>[huawei, p20, music, htc, übungen]</td>\n",
       "    </tr>\n",
       "    <tr>\n",
       "      <th>4</th>\n",
       "      <td>[android, the, google, lg, monster]</td>\n",
       "    </tr>\n",
       "  </tbody>\n",
       "</table>\n",
       "</div>"
      ],
      "text/plain": [
       "                                 topic terms\n",
       "0     [apple, watch, ios, millionen, iphone]\n",
       "1                [apple, gb, tv, tvos, 2018]\n",
       "2  [iphone, galaxy, samsung, apple, homepod]\n",
       "3         [huawei, p20, music, htc, übungen]\n",
       "4        [android, the, google, lg, monster]"
      ]
     },
     "metadata": {},
     "output_type": "display_data"
    }
   ],
   "source": [
    "displayDF(topics.select(ListOfIndexToWords(topics.termIndices).alias('topic terms')), 5)"
   ]
  },
  {
   "cell_type": "code",
   "execution_count": 37,
   "metadata": {},
   "outputs": [
    {
     "data": {
      "text/html": [
       "<div>\n",
       "<style scoped>\n",
       "    .dataframe tbody tr th:only-of-type {\n",
       "        vertical-align: middle;\n",
       "    }\n",
       "\n",
       "    .dataframe tbody tr th {\n",
       "        vertical-align: top;\n",
       "    }\n",
       "\n",
       "    .dataframe thead th {\n",
       "        text-align: right;\n",
       "    }\n",
       "</style>\n",
       "<table border=\"1\" class=\"dataframe\">\n",
       "  <thead>\n",
       "    <tr style=\"text-align: right;\">\n",
       "      <th></th>\n",
       "      <th>topic weights</th>\n",
       "    </tr>\n",
       "  </thead>\n",
       "  <tbody>\n",
       "    <tr>\n",
       "      <th>0</th>\n",
       "      <td>[0.3470, 0.1182, 0.0535, 0.0477, 0.0428]</td>\n",
       "    </tr>\n",
       "    <tr>\n",
       "      <th>1</th>\n",
       "      <td>[0.1327, 0.0782, 0.0685, 0.0653, 0.0587]</td>\n",
       "    </tr>\n",
       "    <tr>\n",
       "      <th>2</th>\n",
       "      <td>[0.1406, 0.1060, 0.0666, 0.0569, 0.0481]</td>\n",
       "    </tr>\n",
       "    <tr>\n",
       "      <th>3</th>\n",
       "      <td>[0.0965, 0.0659, 0.0589, 0.0467, 0.0423]</td>\n",
       "    </tr>\n",
       "    <tr>\n",
       "      <th>4</th>\n",
       "      <td>[0.0711, 0.0691, 0.0688, 0.0612, 0.0558]</td>\n",
       "    </tr>\n",
       "  </tbody>\n",
       "</table>\n",
       "</div>"
      ],
      "text/plain": [
       "                              topic weights\n",
       "0  [0.3470, 0.1182, 0.0535, 0.0477, 0.0428]\n",
       "1  [0.1327, 0.0782, 0.0685, 0.0653, 0.0587]\n",
       "2  [0.1406, 0.1060, 0.0666, 0.0569, 0.0481]\n",
       "3  [0.0965, 0.0659, 0.0589, 0.0467, 0.0423]\n",
       "4  [0.0711, 0.0691, 0.0688, 0.0612, 0.0558]"
      ]
     },
     "metadata": {},
     "output_type": "display_data"
    }
   ],
   "source": [
    "displayDF(topics.select(FormatNumbers(topics.termWeights).alias('topic weights')), 5)"
   ]
  },
  {
   "cell_type": "code",
   "execution_count": 38,
   "metadata": {},
   "outputs": [
    {
     "data": {
      "text/html": [
       "<div>\n",
       "<style scoped>\n",
       "    .dataframe tbody tr th:only-of-type {\n",
       "        vertical-align: middle;\n",
       "    }\n",
       "\n",
       "    .dataframe tbody tr th {\n",
       "        vertical-align: top;\n",
       "    }\n",
       "\n",
       "    .dataframe thead th {\n",
       "        text-align: right;\n",
       "    }\n",
       "</style>\n",
       "<table border=\"1\" class=\"dataframe\">\n",
       "  <thead>\n",
       "    <tr style=\"text-align: right;\">\n",
       "      <th></th>\n",
       "      <th>topic</th>\n",
       "      <th>words</th>\n",
       "      <th>weights</th>\n",
       "    </tr>\n",
       "  </thead>\n",
       "  <tbody>\n",
       "    <tr>\n",
       "      <th>0</th>\n",
       "      <td>1</td>\n",
       "      <td>[apple, watch, ios, millionen, iphone]</td>\n",
       "      <td>[0.3470, 0.1182, 0.0535, 0.0477, 0.0428]</td>\n",
       "    </tr>\n",
       "    <tr>\n",
       "      <th>1</th>\n",
       "      <td>2</td>\n",
       "      <td>[apple, gb, tv, tvos, 2018]</td>\n",
       "      <td>[0.1327, 0.0782, 0.0685, 0.0653, 0.0587]</td>\n",
       "    </tr>\n",
       "    <tr>\n",
       "      <th>2</th>\n",
       "      <td>3</td>\n",
       "      <td>[iphone, galaxy, samsung, apple, homepod]</td>\n",
       "      <td>[0.1406, 0.1060, 0.0666, 0.0569, 0.0481]</td>\n",
       "    </tr>\n",
       "    <tr>\n",
       "      <th>3</th>\n",
       "      <td>4</td>\n",
       "      <td>[huawei, p20, music, htc, übungen]</td>\n",
       "      <td>[0.0965, 0.0659, 0.0589, 0.0467, 0.0423]</td>\n",
       "    </tr>\n",
       "    <tr>\n",
       "      <th>4</th>\n",
       "      <td>5</td>\n",
       "      <td>[android, the, google, lg, monster]</td>\n",
       "      <td>[0.0711, 0.0691, 0.0688, 0.0612, 0.0558]</td>\n",
       "    </tr>\n",
       "  </tbody>\n",
       "</table>\n",
       "</div>"
      ],
      "text/plain": [
       "   topic                                      words  \\\n",
       "0      1     [apple, watch, ios, millionen, iphone]   \n",
       "1      2                [apple, gb, tv, tvos, 2018]   \n",
       "2      3  [iphone, galaxy, samsung, apple, homepod]   \n",
       "3      4         [huawei, p20, music, htc, übungen]   \n",
       "4      5        [android, the, google, lg, monster]   \n",
       "\n",
       "                                    weights  \n",
       "0  [0.3470, 0.1182, 0.0535, 0.0477, 0.0428]  \n",
       "1  [0.1327, 0.0782, 0.0685, 0.0653, 0.0587]  \n",
       "2  [0.1406, 0.1060, 0.0666, 0.0569, 0.0481]  \n",
       "3  [0.0965, 0.0659, 0.0589, 0.0467, 0.0423]  \n",
       "4  [0.0711, 0.0691, 0.0688, 0.0612, 0.0558]  "
      ]
     },
     "metadata": {},
     "output_type": "display_data"
    }
   ],
   "source": [
    "toptopics = topics.select((topics.topic + 1).alias('topic'),\n",
    "                          ListOfIndexToWords(topics.termIndices).alias('words'),\n",
    "                          FormatNumbers(topics.termWeights).alias('weights'))\n",
    "displayDF(toptopics, 5)"
   ]
  },
  {
   "cell_type": "code",
   "execution_count": 40,
   "metadata": {},
   "outputs": [
    {
     "name": "stdout",
     "output_type": "stream",
     "text": [
      "[Row(words='[apple, watch, ios, millionen, iphone]'), Row(words='[apple, gb, tv, tvos, 2018]'), Row(words='[iphone, galaxy, samsung, apple, homepod]'), Row(words='[huawei, p20, music, htc, übungen]'), Row(words='[android, the, google, lg, monster]')]\n"
     ]
    }
   ],
   "source": [
    "top_words = topics.select(ListOfIndexToWords(topics.termIndices).alias('words')).take(num_topics)\n",
    "print(top_words)"
   ]
  },
  {
   "cell_type": "markdown",
   "metadata": {},
   "source": [
    "#### Documents for all topics"
   ]
  },
  {
   "cell_type": "code",
   "execution_count": 41,
   "metadata": {},
   "outputs": [],
   "source": [
    "number_of_top_documents = 3"
   ]
  },
  {
   "cell_type": "code",
   "execution_count": 44,
   "metadata": {},
   "outputs": [],
   "source": [
    "df = lda_model.transform(count_vectors)"
   ]
  },
  {
   "cell_type": "code",
   "execution_count": 46,
   "metadata": {},
   "outputs": [
    {
     "name": "stdout",
     "output_type": "stream",
     "text": [
      "Topic 0\n",
      "\n",
      "Top Document(s): [Row(ID=495179, weight=0.992948173603075), Row(ID=153098, weight=0.9907271912930936), Row(ID=157847, weight=0.9879008681065138)]\n",
      "495179\n",
      "+------+--------------------------------------------------------------------+\n",
      "|id    |title                                                               |\n",
      "+------+--------------------------------------------------------------------+\n",
      "|495179|iOS 11 vorgestellt: Siri spricht natürlicher und wird zum Übersetzer|\n",
      "+------+--------------------------------------------------------------------+\n",
      "\n",
      "153098\n",
      "+------+-------------------------------------------------------+\n",
      "|id    |title                                                  |\n",
      "+------+-------------------------------------------------------+\n",
      "|153098|Kratzer im Glas: Die fragwürdige Pleite von GT Advanced|\n",
      "+------+-------------------------------------------------------+\n",
      "\n",
      "157847\n",
      "+------+----------------------------------------------+\n",
      "|id    |title                                         |\n",
      "+------+----------------------------------------------+\n",
      "|157847|Kaufberatung: Welches iPad sich für Euch lohnt|\n",
      "+------+----------------------------------------------+\n",
      "\n",
      "Top terms:\n",
      "[apple, watch, ios, millionen, iphone] \n",
      "\n",
      "===================================================\n",
      "Topic 1\n",
      "\n",
      "Top Document(s): [Row(ID=611645, weight=0.992424908132167), Row(ID=611645, weight=0.9924249074227678), Row(ID=611645, weight=0.9924249071305791)]\n",
      "611645\n",
      "+------+---------------------------------------------------------------+\n",
      "|id    |title                                                          |\n",
      "+------+---------------------------------------------------------------+\n",
      "|611645|Apple zeigt tvOS 12 für Apple TV: Das sind die neuen Funktionen|\n",
      "|611645|Apple zeigt tvOS 12 für Apple TV: Das sind die neuen Funktionen|\n",
      "|611645|Apple zeigt tvOS 12 für Apple TV: Das sind die neuen Funktionen|\n",
      "|611645|Apple zeigt tvOS 12 für Apple TV: Das sind die neuen Funktionen|\n",
      "|611645|Apple zeigt tvOS 12 für Apple TV: Das sind die neuen Funktionen|\n",
      "|611645|Apple zeigt tvOS 12 für Apple TV: Das sind die neuen Funktionen|\n",
      "|611645|Apple zeigt tvOS 12 für Apple TV: Das sind die neuen Funktionen|\n",
      "|611645|Apple zeigt tvOS 12 für Apple TV: Das sind die neuen Funktionen|\n",
      "|611645|Apple zeigt tvOS 12 für Apple TV: Das sind die neuen Funktionen|\n",
      "|611645|Apple zeigt tvOS 12 für Apple TV: Das sind die neuen Funktionen|\n",
      "|611645|Apple zeigt tvOS 12 für Apple TV: Das sind die neuen Funktionen|\n",
      "|611645|Apple zeigt tvOS 12 für Apple TV: Das sind die neuen Funktionen|\n",
      "|611645|Apple zeigt tvOS 12 für Apple TV: Das sind die neuen Funktionen|\n",
      "|611645|Apple zeigt tvOS 12 für Apple TV: Das sind die neuen Funktionen|\n",
      "|611645|Apple zeigt tvOS 12 für Apple TV: Das sind die neuen Funktionen|\n",
      "|611645|Apple zeigt tvOS 12 für Apple TV: Das sind die neuen Funktionen|\n",
      "|611645|Apple zeigt tvOS 12 für Apple TV: Das sind die neuen Funktionen|\n",
      "|611645|Apple zeigt tvOS 12 für Apple TV: Das sind die neuen Funktionen|\n",
      "|611645|Apple zeigt tvOS 12 für Apple TV: Das sind die neuen Funktionen|\n",
      "|611645|Apple zeigt tvOS 12 für Apple TV: Das sind die neuen Funktionen|\n",
      "+------+---------------------------------------------------------------+\n",
      "only showing top 20 rows\n",
      "\n",
      "611645\n",
      "+------+---------------------------------------------------------------+\n",
      "|id    |title                                                          |\n",
      "+------+---------------------------------------------------------------+\n",
      "|611645|Apple zeigt tvOS 12 für Apple TV: Das sind die neuen Funktionen|\n",
      "|611645|Apple zeigt tvOS 12 für Apple TV: Das sind die neuen Funktionen|\n",
      "|611645|Apple zeigt tvOS 12 für Apple TV: Das sind die neuen Funktionen|\n",
      "|611645|Apple zeigt tvOS 12 für Apple TV: Das sind die neuen Funktionen|\n",
      "|611645|Apple zeigt tvOS 12 für Apple TV: Das sind die neuen Funktionen|\n",
      "|611645|Apple zeigt tvOS 12 für Apple TV: Das sind die neuen Funktionen|\n",
      "|611645|Apple zeigt tvOS 12 für Apple TV: Das sind die neuen Funktionen|\n",
      "|611645|Apple zeigt tvOS 12 für Apple TV: Das sind die neuen Funktionen|\n",
      "|611645|Apple zeigt tvOS 12 für Apple TV: Das sind die neuen Funktionen|\n",
      "|611645|Apple zeigt tvOS 12 für Apple TV: Das sind die neuen Funktionen|\n",
      "|611645|Apple zeigt tvOS 12 für Apple TV: Das sind die neuen Funktionen|\n",
      "|611645|Apple zeigt tvOS 12 für Apple TV: Das sind die neuen Funktionen|\n",
      "|611645|Apple zeigt tvOS 12 für Apple TV: Das sind die neuen Funktionen|\n",
      "|611645|Apple zeigt tvOS 12 für Apple TV: Das sind die neuen Funktionen|\n",
      "|611645|Apple zeigt tvOS 12 für Apple TV: Das sind die neuen Funktionen|\n",
      "|611645|Apple zeigt tvOS 12 für Apple TV: Das sind die neuen Funktionen|\n",
      "|611645|Apple zeigt tvOS 12 für Apple TV: Das sind die neuen Funktionen|\n",
      "|611645|Apple zeigt tvOS 12 für Apple TV: Das sind die neuen Funktionen|\n",
      "|611645|Apple zeigt tvOS 12 für Apple TV: Das sind die neuen Funktionen|\n",
      "|611645|Apple zeigt tvOS 12 für Apple TV: Das sind die neuen Funktionen|\n",
      "+------+---------------------------------------------------------------+\n",
      "only showing top 20 rows\n",
      "\n",
      "611645\n",
      "+------+---------------------------------------------------------------+\n",
      "|id    |title                                                          |\n",
      "+------+---------------------------------------------------------------+\n",
      "|611645|Apple zeigt tvOS 12 für Apple TV: Das sind die neuen Funktionen|\n",
      "|611645|Apple zeigt tvOS 12 für Apple TV: Das sind die neuen Funktionen|\n",
      "|611645|Apple zeigt tvOS 12 für Apple TV: Das sind die neuen Funktionen|\n",
      "|611645|Apple zeigt tvOS 12 für Apple TV: Das sind die neuen Funktionen|\n",
      "|611645|Apple zeigt tvOS 12 für Apple TV: Das sind die neuen Funktionen|\n",
      "|611645|Apple zeigt tvOS 12 für Apple TV: Das sind die neuen Funktionen|\n",
      "|611645|Apple zeigt tvOS 12 für Apple TV: Das sind die neuen Funktionen|\n",
      "|611645|Apple zeigt tvOS 12 für Apple TV: Das sind die neuen Funktionen|\n",
      "|611645|Apple zeigt tvOS 12 für Apple TV: Das sind die neuen Funktionen|\n",
      "|611645|Apple zeigt tvOS 12 für Apple TV: Das sind die neuen Funktionen|\n",
      "|611645|Apple zeigt tvOS 12 für Apple TV: Das sind die neuen Funktionen|\n",
      "|611645|Apple zeigt tvOS 12 für Apple TV: Das sind die neuen Funktionen|\n",
      "|611645|Apple zeigt tvOS 12 für Apple TV: Das sind die neuen Funktionen|\n",
      "|611645|Apple zeigt tvOS 12 für Apple TV: Das sind die neuen Funktionen|\n",
      "|611645|Apple zeigt tvOS 12 für Apple TV: Das sind die neuen Funktionen|\n",
      "|611645|Apple zeigt tvOS 12 für Apple TV: Das sind die neuen Funktionen|\n",
      "|611645|Apple zeigt tvOS 12 für Apple TV: Das sind die neuen Funktionen|\n",
      "|611645|Apple zeigt tvOS 12 für Apple TV: Das sind die neuen Funktionen|\n",
      "|611645|Apple zeigt tvOS 12 für Apple TV: Das sind die neuen Funktionen|\n",
      "|611645|Apple zeigt tvOS 12 für Apple TV: Das sind die neuen Funktionen|\n",
      "+------+---------------------------------------------------------------+\n",
      "only showing top 20 rows\n",
      "\n",
      "Top terms:\n",
      "[apple, gb, tv, tvos, 2018] \n",
      "\n",
      "===================================================\n",
      "Topic 2\n",
      "\n",
      "Top Document(s): [Row(ID=325558, weight=0.995281443647482), Row(ID=325558, weight=0.9952813331712795), Row(ID=114452, weight=0.9901676362795894)]\n",
      "325558\n",
      "+------+---------------------+\n",
      "|id    |title                |\n",
      "+------+---------------------+\n",
      "|325558|Samsung Galaxy Note 7|\n",
      "|325558|Samsung Galaxy Note 7|\n",
      "+------+---------------------+\n",
      "\n",
      "325558\n",
      "+------+---------------------+\n",
      "|id    |title                |\n",
      "+------+---------------------+\n",
      "|325558|Samsung Galaxy Note 7|\n",
      "|325558|Samsung Galaxy Note 7|\n",
      "+------+---------------------+\n",
      "\n",
      "114452\n",
      "+------+------------------------------------------------------+\n",
      "|id    |title                                                 |\n",
      "+------+------------------------------------------------------+\n",
      "|114452|Samsung Galaxy Note 4: Kommt es schon am 3. September?|\n",
      "+------+------------------------------------------------------+\n",
      "\n",
      "Top terms:\n",
      "[iphone, galaxy, samsung, apple, homepod] \n",
      "\n",
      "===================================================\n",
      "Topic 3\n",
      "\n",
      "Top Document(s): [Row(ID=583744, weight=0.9900356236401392), Row(ID=583744, weight=0.9900356229293013), Row(ID=583744, weight=0.9900356211836159)]\n",
      "583744\n",
      "+------+----------+\n",
      "|id    |title     |\n",
      "+------+----------+\n",
      "|583744|Huawei P20|\n",
      "|583744|Huawei P20|\n",
      "|583744|Huawei P20|\n",
      "|583744|Huawei P20|\n",
      "|583744|Huawei P20|\n",
      "|583744|Huawei P20|\n",
      "|583744|Huawei P20|\n",
      "|583744|Huawei P20|\n",
      "|583744|Huawei P20|\n",
      "|583744|Huawei P20|\n",
      "|583744|Huawei P20|\n",
      "|583744|Huawei P20|\n",
      "|583744|Huawei P20|\n",
      "|583744|Huawei P20|\n",
      "|583744|Huawei P20|\n",
      "|583744|Huawei P20|\n",
      "|583744|Huawei P20|\n",
      "|583744|Huawei P20|\n",
      "|583744|Huawei P20|\n",
      "|583744|Huawei P20|\n",
      "+------+----------+\n",
      "only showing top 20 rows\n",
      "\n",
      "583744\n"
     ]
    },
    {
     "name": "stdout",
     "output_type": "stream",
     "text": [
      "+------+----------+\n",
      "|id    |title     |\n",
      "+------+----------+\n",
      "|583744|Huawei P20|\n",
      "|583744|Huawei P20|\n",
      "|583744|Huawei P20|\n",
      "|583744|Huawei P20|\n",
      "|583744|Huawei P20|\n",
      "|583744|Huawei P20|\n",
      "|583744|Huawei P20|\n",
      "|583744|Huawei P20|\n",
      "|583744|Huawei P20|\n",
      "|583744|Huawei P20|\n",
      "|583744|Huawei P20|\n",
      "|583744|Huawei P20|\n",
      "|583744|Huawei P20|\n",
      "|583744|Huawei P20|\n",
      "|583744|Huawei P20|\n",
      "|583744|Huawei P20|\n",
      "|583744|Huawei P20|\n",
      "|583744|Huawei P20|\n",
      "|583744|Huawei P20|\n",
      "|583744|Huawei P20|\n",
      "+------+----------+\n",
      "only showing top 20 rows\n",
      "\n",
      "583744\n",
      "+------+----------+\n",
      "|id    |title     |\n",
      "+------+----------+\n",
      "|583744|Huawei P20|\n",
      "|583744|Huawei P20|\n",
      "|583744|Huawei P20|\n",
      "|583744|Huawei P20|\n",
      "|583744|Huawei P20|\n",
      "|583744|Huawei P20|\n",
      "|583744|Huawei P20|\n",
      "|583744|Huawei P20|\n",
      "|583744|Huawei P20|\n",
      "|583744|Huawei P20|\n",
      "|583744|Huawei P20|\n",
      "|583744|Huawei P20|\n",
      "|583744|Huawei P20|\n",
      "|583744|Huawei P20|\n",
      "|583744|Huawei P20|\n",
      "|583744|Huawei P20|\n",
      "|583744|Huawei P20|\n",
      "|583744|Huawei P20|\n",
      "|583744|Huawei P20|\n",
      "|583744|Huawei P20|\n",
      "+------+----------+\n",
      "only showing top 20 rows\n",
      "\n",
      "Top terms:\n",
      "[huawei, p20, music, htc, übungen] \n",
      "\n",
      "===================================================\n",
      "Topic 4\n",
      "\n",
      "Top Document(s): [Row(ID=16415, weight=0.9884533690452391), Row(ID=16415, weight=0.9884528765822781), Row(ID=271137, weight=0.9882045789266226)]\n",
      "16415\n",
      "+-----+-----------------------------------------------------------+\n",
      "|id   |title                                                      |\n",
      "+-----+-----------------------------------------------------------+\n",
      "|16415|Android 4.2 – neue Gerüchte um die kommende Android-Version|\n",
      "|16415|Android 4.2 – neue Gerüchte um die kommende Android-Version|\n",
      "+-----+-----------------------------------------------------------+\n",
      "\n",
      "16415\n",
      "+-----+-----------------------------------------------------------+\n",
      "|id   |title                                                      |\n",
      "+-----+-----------------------------------------------------------+\n",
      "|16415|Android 4.2 – neue Gerüchte um die kommende Android-Version|\n",
      "|16415|Android 4.2 – neue Gerüchte um die kommende Android-Version|\n",
      "+-----+-----------------------------------------------------------+\n",
      "\n",
      "271137\n",
      "+------+----------------------------------------------------------+\n",
      "|id    |title                                                     |\n",
      "+------+----------------------------------------------------------+\n",
      "|271137|Android M: So bekommt Ihr den neuen App Drawer schon jetzt|\n",
      "+------+----------------------------------------------------------+\n",
      "\n",
      "Top terms:\n",
      "[android, the, google, lg, monster] \n",
      "\n",
      "===================================================\n"
     ]
    }
   ],
   "source": [
    "for i in range(0, num_topics):\n",
    "    ntopic = i  \n",
    "    print('Topic ' + str(ntopic) + '\\n')  \n",
    "\n",
    "    df_sliced = df.select(\"ID\", \"topicDistribution\") \\\n",
    "        .rdd.map(lambda r: Row(ID=int(r[0]), weight=float(r[1][ntopic]))).toDF()\n",
    "\n",
    "    doc_ids = df_sliced.sort(df_sliced.weight.desc()).take(number_of_top_documents)\n",
    "    print('Top Document(s):',doc_ids)\n",
    "    for d_id in doc_ids:\n",
    "        print(d_id[0])\n",
    "        raw_data_df\\\n",
    "            .select(\"id\",\"title\")\\\n",
    "            .filter(raw_data_df.id == d_id[0]) \\\n",
    "            .show(truncate=False)\n",
    "\n",
    "    print('Top terms:')\n",
    "    print(top_words[ntopic][0], '\\n')\n",
    "    print('===================================================')"
   ]
  },
  {
   "cell_type": "markdown",
   "metadata": {},
   "source": [
    "#### Details for a single topic"
   ]
  },
  {
   "cell_type": "code",
   "execution_count": 48,
   "metadata": {},
   "outputs": [],
   "source": [
    "topic_id = 1      \n",
    "number_of_top_document = 3  \n",
    "\n",
    "df_sliced = df.select(\"id\",\"topicDistribution\").rdd.map(lambda r: Row(ID = int(r[0]), sliced = float(r[1][topic_id]))).toDF()\n",
    "top_doc_id = df_sliced.sort(df_sliced.sliced.desc()).take(number_of_top_document)"
   ]
  },
  {
   "cell_type": "code",
   "execution_count": 49,
   "metadata": {},
   "outputs": [
    {
     "name": "stdout",
     "output_type": "stream",
     "text": [
      "Topic 1\n",
      "\n",
      "Top 3 documents for topic 1\n",
      "DocumentId :  611645\n",
      "+------+---------------------------------------------------------------+\n",
      "|id    |title                                                          |\n",
      "+------+---------------------------------------------------------------+\n",
      "|611645|Apple zeigt tvOS 12 für Apple TV: Das sind die neuen Funktionen|\n",
      "|611645|Apple zeigt tvOS 12 für Apple TV: Das sind die neuen Funktionen|\n",
      "|611645|Apple zeigt tvOS 12 für Apple TV: Das sind die neuen Funktionen|\n",
      "|611645|Apple zeigt tvOS 12 für Apple TV: Das sind die neuen Funktionen|\n",
      "|611645|Apple zeigt tvOS 12 für Apple TV: Das sind die neuen Funktionen|\n",
      "|611645|Apple zeigt tvOS 12 für Apple TV: Das sind die neuen Funktionen|\n",
      "|611645|Apple zeigt tvOS 12 für Apple TV: Das sind die neuen Funktionen|\n",
      "|611645|Apple zeigt tvOS 12 für Apple TV: Das sind die neuen Funktionen|\n",
      "|611645|Apple zeigt tvOS 12 für Apple TV: Das sind die neuen Funktionen|\n",
      "|611645|Apple zeigt tvOS 12 für Apple TV: Das sind die neuen Funktionen|\n",
      "|611645|Apple zeigt tvOS 12 für Apple TV: Das sind die neuen Funktionen|\n",
      "|611645|Apple zeigt tvOS 12 für Apple TV: Das sind die neuen Funktionen|\n",
      "|611645|Apple zeigt tvOS 12 für Apple TV: Das sind die neuen Funktionen|\n",
      "|611645|Apple zeigt tvOS 12 für Apple TV: Das sind die neuen Funktionen|\n",
      "|611645|Apple zeigt tvOS 12 für Apple TV: Das sind die neuen Funktionen|\n",
      "|611645|Apple zeigt tvOS 12 für Apple TV: Das sind die neuen Funktionen|\n",
      "|611645|Apple zeigt tvOS 12 für Apple TV: Das sind die neuen Funktionen|\n",
      "|611645|Apple zeigt tvOS 12 für Apple TV: Das sind die neuen Funktionen|\n",
      "|611645|Apple zeigt tvOS 12 für Apple TV: Das sind die neuen Funktionen|\n",
      "|611645|Apple zeigt tvOS 12 für Apple TV: Das sind die neuen Funktionen|\n",
      "+------+---------------------------------------------------------------+\n",
      "only showing top 20 rows\n",
      "\n",
      "DocumentId :  611645\n",
      "+------+---------------------------------------------------------------+\n",
      "|id    |title                                                          |\n",
      "+------+---------------------------------------------------------------+\n",
      "|611645|Apple zeigt tvOS 12 für Apple TV: Das sind die neuen Funktionen|\n",
      "|611645|Apple zeigt tvOS 12 für Apple TV: Das sind die neuen Funktionen|\n",
      "|611645|Apple zeigt tvOS 12 für Apple TV: Das sind die neuen Funktionen|\n",
      "|611645|Apple zeigt tvOS 12 für Apple TV: Das sind die neuen Funktionen|\n",
      "|611645|Apple zeigt tvOS 12 für Apple TV: Das sind die neuen Funktionen|\n",
      "|611645|Apple zeigt tvOS 12 für Apple TV: Das sind die neuen Funktionen|\n",
      "|611645|Apple zeigt tvOS 12 für Apple TV: Das sind die neuen Funktionen|\n",
      "|611645|Apple zeigt tvOS 12 für Apple TV: Das sind die neuen Funktionen|\n",
      "|611645|Apple zeigt tvOS 12 für Apple TV: Das sind die neuen Funktionen|\n",
      "|611645|Apple zeigt tvOS 12 für Apple TV: Das sind die neuen Funktionen|\n",
      "|611645|Apple zeigt tvOS 12 für Apple TV: Das sind die neuen Funktionen|\n",
      "|611645|Apple zeigt tvOS 12 für Apple TV: Das sind die neuen Funktionen|\n",
      "|611645|Apple zeigt tvOS 12 für Apple TV: Das sind die neuen Funktionen|\n",
      "|611645|Apple zeigt tvOS 12 für Apple TV: Das sind die neuen Funktionen|\n",
      "|611645|Apple zeigt tvOS 12 für Apple TV: Das sind die neuen Funktionen|\n",
      "|611645|Apple zeigt tvOS 12 für Apple TV: Das sind die neuen Funktionen|\n",
      "|611645|Apple zeigt tvOS 12 für Apple TV: Das sind die neuen Funktionen|\n",
      "|611645|Apple zeigt tvOS 12 für Apple TV: Das sind die neuen Funktionen|\n",
      "|611645|Apple zeigt tvOS 12 für Apple TV: Das sind die neuen Funktionen|\n",
      "|611645|Apple zeigt tvOS 12 für Apple TV: Das sind die neuen Funktionen|\n",
      "+------+---------------------------------------------------------------+\n",
      "only showing top 20 rows\n",
      "\n",
      "DocumentId :  611645\n",
      "+------+---------------------------------------------------------------+\n",
      "|id    |title                                                          |\n",
      "+------+---------------------------------------------------------------+\n",
      "|611645|Apple zeigt tvOS 12 für Apple TV: Das sind die neuen Funktionen|\n",
      "|611645|Apple zeigt tvOS 12 für Apple TV: Das sind die neuen Funktionen|\n",
      "|611645|Apple zeigt tvOS 12 für Apple TV: Das sind die neuen Funktionen|\n",
      "|611645|Apple zeigt tvOS 12 für Apple TV: Das sind die neuen Funktionen|\n",
      "|611645|Apple zeigt tvOS 12 für Apple TV: Das sind die neuen Funktionen|\n",
      "|611645|Apple zeigt tvOS 12 für Apple TV: Das sind die neuen Funktionen|\n",
      "|611645|Apple zeigt tvOS 12 für Apple TV: Das sind die neuen Funktionen|\n",
      "|611645|Apple zeigt tvOS 12 für Apple TV: Das sind die neuen Funktionen|\n",
      "|611645|Apple zeigt tvOS 12 für Apple TV: Das sind die neuen Funktionen|\n",
      "|611645|Apple zeigt tvOS 12 für Apple TV: Das sind die neuen Funktionen|\n",
      "|611645|Apple zeigt tvOS 12 für Apple TV: Das sind die neuen Funktionen|\n",
      "|611645|Apple zeigt tvOS 12 für Apple TV: Das sind die neuen Funktionen|\n",
      "|611645|Apple zeigt tvOS 12 für Apple TV: Das sind die neuen Funktionen|\n",
      "|611645|Apple zeigt tvOS 12 für Apple TV: Das sind die neuen Funktionen|\n",
      "|611645|Apple zeigt tvOS 12 für Apple TV: Das sind die neuen Funktionen|\n",
      "|611645|Apple zeigt tvOS 12 für Apple TV: Das sind die neuen Funktionen|\n",
      "|611645|Apple zeigt tvOS 12 für Apple TV: Das sind die neuen Funktionen|\n",
      "|611645|Apple zeigt tvOS 12 für Apple TV: Das sind die neuen Funktionen|\n",
      "|611645|Apple zeigt tvOS 12 für Apple TV: Das sind die neuen Funktionen|\n",
      "|611645|Apple zeigt tvOS 12 für Apple TV: Das sind die neuen Funktionen|\n",
      "+------+---------------------------------------------------------------+\n",
      "only showing top 20 rows\n",
      "\n",
      "Top 5 terms:\n",
      "[apple, gb, tv, tvos, 2018] \n",
      "\n"
     ]
    }
   ],
   "source": [
    "print('Topic ' + str(topic_id) +'\\n')\n",
    "print(\"Top %s documents for topic %s\" % (number_of_top_document, topic_id))\n",
    "for d_id in top_doc_id:\n",
    "    print(\"DocumentId : \",d_id[0])\n",
    "    raw_data_df\\\n",
    "        .select(\"id\",\"title\")\\\n",
    "        .filter(raw_data_df.id == d_id[0]) \\\n",
    "        .show(truncate=False)\n",
    "\n",
    "print('Top 5 terms:')\n",
    "print(topics.select(ListOfIndexToWords(topics.termIndices).alias('words')).take(num_topics)[topic_id][0], '\\n')\n"
   ]
  },
  {
   "cell_type": "markdown",
   "metadata": {},
   "source": [
    "#### Plot the top documents for each topic distribution"
   ]
  },
  {
   "cell_type": "code",
   "execution_count": 51,
   "metadata": {},
   "outputs": [],
   "source": [
    "count_top_docs = (\n",
    "    lda_model\\\n",
    "        .transform(count_vectors)\\\n",
    "        .select(\"topicDistribution\")\\\n",
    "        .rdd.map(lambda r: Row( nTopTopic = int(np.argmax(r)))).toDF()\\\n",
    "        .groupBy(\"nTopTopic\").count().sort(\"nTopTopic\")\\\n",
    ")"
   ]
  },
  {
   "cell_type": "code",
   "execution_count": 52,
   "metadata": {},
   "outputs": [
    {
     "name": "stdout",
     "output_type": "stream",
     "text": [
      "[5631, 1240, 3184, 2335, 3361]\n"
     ]
    }
   ],
   "source": [
    "values = count_top_docs.select(\"count\").rdd.map(lambda row : row[0]).collect()\n",
    "print(values)"
   ]
  },
  {
   "cell_type": "code",
   "execution_count": 55,
   "metadata": {},
   "outputs": [
    {
     "data": {
      "text/plain": [
       "['[apple, watch, ios, millionen, iphone]',\n",
       " '[apple, gb, tv, tvos, 2018]',\n",
       " '[iphone, galaxy, samsung, apple, homepod]',\n",
       " '[huawei, p20, music, htc, übungen]',\n",
       " '[android, the, google, lg, monster]']"
      ]
     },
     "execution_count": 55,
     "metadata": {},
     "output_type": "execute_result"
    }
   ],
   "source": [
    "topic_words = toptopics.rdd.map(lambda row : row[1]).collect()\n",
    "topic_words"
   ]
  },
  {
   "cell_type": "code",
   "execution_count": 56,
   "metadata": {},
   "outputs": [
    {
     "data": {
      "text/html": [
       "<script>requirejs.config({paths: { 'plotly': ['https://cdn.plot.ly/plotly-latest.min']},});if(!window.Plotly) {{require(['plotly'],function(plotly) {window.Plotly=plotly;});}}</script>"
      ],
      "text/vnd.plotly.v1+html": [
       "<script>requirejs.config({paths: { 'plotly': ['https://cdn.plot.ly/plotly-latest.min']},});if(!window.Plotly) {{require(['plotly'],function(plotly) {window.Plotly=plotly;});}}</script>"
      ]
     },
     "metadata": {},
     "output_type": "display_data"
    }
   ],
   "source": [
    "init_notebook_mode(connected=True)"
   ]
  },
  {
   "cell_type": "code",
   "execution_count": 57,
   "metadata": {},
   "outputs": [],
   "source": [
    "x = 0.\n",
    "y = 0.\n",
    "width = 5.\n",
    "height = 5."
   ]
  },
  {
   "cell_type": "code",
   "execution_count": 58,
   "metadata": {},
   "outputs": [],
   "source": [
    "normed = squarify.normalize_sizes(values, width, height)\n",
    "rects = squarify.squarify(normed, x, y, width, height)"
   ]
  },
  {
   "cell_type": "code",
   "execution_count": 59,
   "metadata": {},
   "outputs": [],
   "source": [
    "shapes = []\n",
    "annotations = []\n",
    "counter = 0"
   ]
  },
  {
   "cell_type": "code",
   "execution_count": 60,
   "metadata": {},
   "outputs": [
    {
     "data": {
      "text/plain": [
       "['rgb(208,28,139)',\n",
       " 'rgb(241,182,218)',\n",
       " 'rgb(247,247,247)',\n",
       " 'rgb(184,225,134)',\n",
       " 'rgb(77,172,38)']"
      ]
     },
     "execution_count": 60,
     "metadata": {},
     "output_type": "execute_result"
    }
   ],
   "source": [
    "color_brewer = cl.scales['5']['div']['PiYG']; \n",
    "color_brewer"
   ]
  },
  {
   "cell_type": "code",
   "execution_count": 61,
   "metadata": {},
   "outputs": [],
   "source": [
    "for r in rects:\n",
    "    shapes.append( \n",
    "        dict(\n",
    "            type = 'rect', \n",
    "            x0 = r['x'], \n",
    "            y0 = r['y'], \n",
    "            x1 = r['x']+r['dx'], \n",
    "            y1 = r['y']+r['dy'],\n",
    "            line = dict( width = 2 ),\n",
    "            fillcolor = color_brewer[counter]\n",
    "        ) \n",
    "    )\n",
    "    annotations.append(\n",
    "        dict(\n",
    "            x = r['x']+(r['dx']/2),\n",
    "            y = r['y']+(r['dy']/2),\n",
    "            text = \"topic \"+str(counter+1),\n",
    "            showarrow = False\n",
    "        )\n",
    "    )\n",
    "    counter = counter + 1\n",
    "    if counter >= len(color_brewer):\n",
    "        counter = 0"
   ]
  },
  {
   "cell_type": "code",
   "execution_count": 62,
   "metadata": {},
   "outputs": [],
   "source": [
    "# For hover text\n",
    "trace0 = go.Scatter(\n",
    "    x = [ r['x']+(r['dx']/2) for r in rects ], \n",
    "    y = [ r['y']+(r['dy']/2) for r in rects ],\n",
    "    text = [ str(t) for t in topic_words ], \n",
    "    mode = 'text',\n",
    ")"
   ]
  },
  {
   "cell_type": "code",
   "execution_count": 63,
   "metadata": {},
   "outputs": [],
   "source": [
    "layout = dict(\n",
    "    height=500, \n",
    "    width=900,\n",
    "    xaxis=dict(showgrid=False,zeroline=False),\n",
    "    yaxis=dict(showgrid=False,zeroline=False),\n",
    "    shapes=shapes,\n",
    "    annotations=annotations,\n",
    "    hovermode='closest'\n",
    ")"
   ]
  },
  {
   "cell_type": "code",
   "execution_count": 64,
   "metadata": {},
   "outputs": [
    {
     "data": {
      "application/vnd.plotly.v1+json": {
       "data": [
        {
         "mode": "text",
         "text": [
          "[apple, watch, ios, millionen, iphone]",
          "[apple, gb, tv, tvos, 2018]",
          "[iphone, galaxy, samsung, apple, homepod]",
          "[huawei, p20, music, htc, übungen]",
          "[android, the, google, lg, monster]"
         ],
         "type": "scatter",
         "uid": "11e033fc-c722-11e8-bc42-0242ac110002",
         "x": [
          1.0905656783696274,
          1.0905656783696274,
          3.5905656783696274,
          3.5905656783696274,
          3.5905656783696274
         ],
         "y": [
          2.0488284092562945,
          4.548828409256294,
          0.8963963963963965,
          2.4501689189189193,
          4.0537725225225225
         ]
        }
       ],
       "layout": {
        "annotations": [
         {
          "showarrow": false,
          "text": "topic 1",
          "x": 1.0905656783696274,
          "y": 2.0488284092562945
         },
         {
          "showarrow": false,
          "text": "topic 2",
          "x": 1.0905656783696274,
          "y": 4.548828409256294
         },
         {
          "showarrow": false,
          "text": "topic 3",
          "x": 3.5905656783696274,
          "y": 0.8963963963963965
         },
         {
          "showarrow": false,
          "text": "topic 4",
          "x": 3.5905656783696274,
          "y": 2.4501689189189193
         },
         {
          "showarrow": false,
          "text": "topic 5",
          "x": 3.5905656783696274,
          "y": 4.0537725225225225
         }
        ],
        "height": 500,
        "hovermode": "closest",
        "shapes": [
         {
          "fillcolor": "rgb(208,28,139)",
          "line": {
           "width": 2
          },
          "type": "rect",
          "x0": 0,
          "x1": 2.1811313567392547,
          "y0": 0,
          "y1": 4.097656818512589
         },
         {
          "fillcolor": "rgb(241,182,218)",
          "line": {
           "width": 2
          },
          "type": "rect",
          "x0": 0,
          "x1": 2.1811313567392547,
          "y0": 4.097656818512589,
          "y1": 5
         },
         {
          "fillcolor": "rgb(247,247,247)",
          "line": {
           "width": 2
          },
          "type": "rect",
          "x0": 2.1811313567392547,
          "x1": 5,
          "y0": 0,
          "y1": 1.792792792792793
         },
         {
          "fillcolor": "rgb(184,225,134)",
          "line": {
           "width": 2
          },
          "type": "rect",
          "x0": 2.1811313567392547,
          "x1": 5,
          "y0": 1.792792792792793,
          "y1": 3.107545045045045
         },
         {
          "fillcolor": "rgb(77,172,38)",
          "line": {
           "width": 2
          },
          "type": "rect",
          "x0": 2.1811313567392547,
          "x1": 5,
          "y0": 3.107545045045045,
          "y1": 5
         }
        ],
        "width": 900,
        "xaxis": {
         "showgrid": false,
         "zeroline": false
        },
        "yaxis": {
         "showgrid": false,
         "zeroline": false
        }
       }
      },
      "text/html": [
       "<div id=\"0f8f83b5-a72b-44a6-aa67-487d4994788e\" style=\"height: 500px; width: 900px;\" class=\"plotly-graph-div\"></div><script type=\"text/javascript\">require([\"plotly\"], function(Plotly) { window.PLOTLYENV=window.PLOTLYENV || {};window.PLOTLYENV.BASE_URL=\"https://plot.ly\";Plotly.newPlot(\"0f8f83b5-a72b-44a6-aa67-487d4994788e\", [{\"x\": [1.0905656783696274, 1.0905656783696274, 3.5905656783696274, 3.5905656783696274, 3.5905656783696274], \"uid\": \"1253d262-c722-11e8-bc42-0242ac110002\", \"y\": [2.0488284092562945, 4.548828409256294, 0.8963963963963965, 2.4501689189189193, 4.0537725225225225], \"text\": [\"[apple, watch, ios, millionen, iphone]\", \"[apple, gb, tv, tvos, 2018]\", \"[iphone, galaxy, samsung, apple, homepod]\", \"[huawei, p20, music, htc, \\u00fcbungen]\", \"[android, the, google, lg, monster]\"], \"type\": \"scatter\", \"mode\": \"text\"}], {\"width\": 900, \"annotations\": [{\"y\": 2.0488284092562945, \"text\": \"topic 1\", \"showarrow\": false, \"x\": 1.0905656783696274}, {\"y\": 4.548828409256294, \"text\": \"topic 2\", \"showarrow\": false, \"x\": 1.0905656783696274}, {\"y\": 0.8963963963963965, \"text\": \"topic 3\", \"showarrow\": false, \"x\": 3.5905656783696274}, {\"y\": 2.4501689189189193, \"text\": \"topic 4\", \"showarrow\": false, \"x\": 3.5905656783696274}, {\"y\": 4.0537725225225225, \"text\": \"topic 5\", \"showarrow\": false, \"x\": 3.5905656783696274}], \"shapes\": [{\"y0\": 0.0, \"y1\": 4.097656818512589, \"fillcolor\": \"rgb(208,28,139)\", \"line\": {\"width\": 2}, \"type\": \"rect\", \"x1\": 2.1811313567392547, \"x0\": 0.0}, {\"y0\": 4.097656818512589, \"y1\": 5.0, \"fillcolor\": \"rgb(241,182,218)\", \"line\": {\"width\": 2}, \"type\": \"rect\", \"x1\": 2.1811313567392547, \"x0\": 0.0}, {\"y0\": 0.0, \"y1\": 1.792792792792793, \"fillcolor\": \"rgb(247,247,247)\", \"line\": {\"width\": 2}, \"type\": \"rect\", \"x1\": 5.0, \"x0\": 2.1811313567392547}, {\"y0\": 1.792792792792793, \"y1\": 3.107545045045045, \"fillcolor\": \"rgb(184,225,134)\", \"line\": {\"width\": 2}, \"type\": \"rect\", \"x1\": 5.0, \"x0\": 2.1811313567392547}, {\"y0\": 3.107545045045045, \"y1\": 5.0, \"fillcolor\": \"rgb(77,172,38)\", \"line\": {\"width\": 2}, \"type\": \"rect\", \"x1\": 5.0, \"x0\": 2.1811313567392547}], \"height\": 500, \"xaxis\": {\"showgrid\": false, \"zeroline\": false}, \"yaxis\": {\"showgrid\": false, \"zeroline\": false}, \"hovermode\": \"closest\"}, {\"linkText\": \"Export to plot.ly\", \"showLink\": true})});</script>"
      ],
      "text/vnd.plotly.v1+html": [
       "<div id=\"0f8f83b5-a72b-44a6-aa67-487d4994788e\" style=\"height: 500px; width: 900px;\" class=\"plotly-graph-div\"></div><script type=\"text/javascript\">require([\"plotly\"], function(Plotly) { window.PLOTLYENV=window.PLOTLYENV || {};window.PLOTLYENV.BASE_URL=\"https://plot.ly\";Plotly.newPlot(\"0f8f83b5-a72b-44a6-aa67-487d4994788e\", [{\"x\": [1.0905656783696274, 1.0905656783696274, 3.5905656783696274, 3.5905656783696274, 3.5905656783696274], \"uid\": \"1253d262-c722-11e8-bc42-0242ac110002\", \"y\": [2.0488284092562945, 4.548828409256294, 0.8963963963963965, 2.4501689189189193, 4.0537725225225225], \"text\": [\"[apple, watch, ios, millionen, iphone]\", \"[apple, gb, tv, tvos, 2018]\", \"[iphone, galaxy, samsung, apple, homepod]\", \"[huawei, p20, music, htc, \\u00fcbungen]\", \"[android, the, google, lg, monster]\"], \"type\": \"scatter\", \"mode\": \"text\"}], {\"width\": 900, \"annotations\": [{\"y\": 2.0488284092562945, \"text\": \"topic 1\", \"showarrow\": false, \"x\": 1.0905656783696274}, {\"y\": 4.548828409256294, \"text\": \"topic 2\", \"showarrow\": false, \"x\": 1.0905656783696274}, {\"y\": 0.8963963963963965, \"text\": \"topic 3\", \"showarrow\": false, \"x\": 3.5905656783696274}, {\"y\": 2.4501689189189193, \"text\": \"topic 4\", \"showarrow\": false, \"x\": 3.5905656783696274}, {\"y\": 4.0537725225225225, \"text\": \"topic 5\", \"showarrow\": false, \"x\": 3.5905656783696274}], \"shapes\": [{\"y0\": 0.0, \"y1\": 4.097656818512589, \"fillcolor\": \"rgb(208,28,139)\", \"line\": {\"width\": 2}, \"type\": \"rect\", \"x1\": 2.1811313567392547, \"x0\": 0.0}, {\"y0\": 4.097656818512589, \"y1\": 5.0, \"fillcolor\": \"rgb(241,182,218)\", \"line\": {\"width\": 2}, \"type\": \"rect\", \"x1\": 2.1811313567392547, \"x0\": 0.0}, {\"y0\": 0.0, \"y1\": 1.792792792792793, \"fillcolor\": \"rgb(247,247,247)\", \"line\": {\"width\": 2}, \"type\": \"rect\", \"x1\": 5.0, \"x0\": 2.1811313567392547}, {\"y0\": 1.792792792792793, \"y1\": 3.107545045045045, \"fillcolor\": \"rgb(184,225,134)\", \"line\": {\"width\": 2}, \"type\": \"rect\", \"x1\": 5.0, \"x0\": 2.1811313567392547}, {\"y0\": 3.107545045045045, \"y1\": 5.0, \"fillcolor\": \"rgb(77,172,38)\", \"line\": {\"width\": 2}, \"type\": \"rect\", \"x1\": 5.0, \"x0\": 2.1811313567392547}], \"height\": 500, \"xaxis\": {\"showgrid\": false, \"zeroline\": false}, \"yaxis\": {\"showgrid\": false, \"zeroline\": false}, \"hovermode\": \"closest\"}, {\"linkText\": \"Export to plot.ly\", \"showLink\": true})});</script>"
      ]
     },
     "metadata": {},
     "output_type": "display_data"
    }
   ],
   "source": [
    "figure = dict(data=[trace0], layout=layout)\n",
    "iplot(figure, filename='squarify-treemap')"
   ]
  },
  {
   "cell_type": "code",
   "execution_count": null,
   "metadata": {},
   "outputs": [],
   "source": []
  }
 ],
 "metadata": {
  "kernelspec": {
   "display_name": "Python 3",
   "language": "python",
   "name": "python3"
  },
  "language_info": {
   "codemirror_mode": {
    "name": "ipython",
    "version": 3
   },
   "file_extension": ".py",
   "mimetype": "text/x-python",
   "name": "python",
   "nbconvert_exporter": "python",
   "pygments_lexer": "ipython3",
   "version": "3.4.2"
  }
 },
 "nbformat": 4,
 "nbformat_minor": 2
}
